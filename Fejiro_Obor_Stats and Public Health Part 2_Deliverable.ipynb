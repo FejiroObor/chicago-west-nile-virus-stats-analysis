{
 "cells": [
  {
   "cell_type": "markdown",
   "id": "82f7fe4d",
   "metadata": {},
   "source": [
    "Author: Fejiro obor"
   ]
  },
  {
   "cell_type": "markdown",
   "id": "82aec335",
   "metadata": {},
   "source": [
    "Stats and Public Health Part 2 Deliverable: Statistical Analysis"
   ]
  },
  {
   "cell_type": "markdown",
   "id": "e4aee5c6",
   "metadata": {},
   "source": [
    "# Stats and Public Health Part 2_Deliverable"
   ]
  },
  {
   "cell_type": "markdown",
   "id": "020b4e64",
   "metadata": {},
   "source": [
    "West Nile Virus (WNV) is a common illness that is usually spread by mosquitos. The virus has consistently been linked with sevaral cases of illness near Chicago, Illinois. This deliverable aims to use cleaned data provided by the city of Chicago to further analyze the relationship between the different variables and WNV Presence & number of mosquitos observed.\n",
    "\n",
    "Question: How do the WNV positive records differ from the WNV negative ones?\n",
    "\n",
    "This can be answered in terms of:\n",
    "- Time of the year mosquito is caught (broken down by Year, Month & Week)\n",
    "- Location of the mosquitoes\n",
    "- Species of the mosquito\n",
    "- Trap ID & trap type used"
   ]
  },
  {
   "cell_type": "markdown",
   "id": "4be5c82b",
   "metadata": {},
   "source": [
    "### Data Dictionary"
   ]
  },
  {
   "cell_type": "markdown",
   "id": "677c0723",
   "metadata": {},
   "source": [
    "`Year` :Year that the WNV test is performed - *int64*\n",
    "\n",
    "\n",
    "`Week` :Week that the WNV test is performed - *int64*\n",
    "\n",
    "\n",
    "`Address Block`: Address of the location of trap - *string*\n",
    "\n",
    "\n",
    "`Block`: Block number of address - *int64*\n",
    "\n",
    "\n",
    "`Trap`: Id of the trap - *string*. Some traps are \\\"satellite traps\\\". These are traps that are set up near (usually within 6 blocks) an established trap to enhance surveillance efforts. Satellite traps are post fixed with letters. For example, T220A is a satellite trap to T220.\n",
    "\n",
    "`Trap type`: Type of trap - *string*\n",
    "\n",
    "\n",
    "`Date`: Date and time that the WNV test is performed - *string*. Please note that not all the locations are tested at all times. Also, records exist only when a particular species of mosquitoes is found at a certain trap at a certain time.\n",
    "\n",
    "\n",
    "`Mosquito number`: Number of mosquitoes caught in this trap - *int64*. These test results are organized in such a way that when the number of mosquitoes exceed 50, they are split into another record (another row in the dataset), such that the number of mosquitoes are capped at 50.\n",
    "\n",
    "`Mosquito ID`: Id for Mosquito species - *string*\n",
    "\n",
    "`WNV Present`: Whether West Nile Virus was present in these mosquitos - *string*\n",
    "\n",
    "`Species`: Mosquito species - *string*\n",
    "\n",
    "`Lat`:Latitude of trap - *float64*\n",
    "\n",
    "`Lon`: Longitude of trap - *float64*"
   ]
  },
  {
   "cell_type": "code",
   "execution_count": 1,
   "id": "62f7582b",
   "metadata": {},
   "outputs": [],
   "source": [
    "import pandas as pd\n",
    "import numpy as np\n",
    "import matplotlib.pyplot as plt\n",
    "import seaborn as sns\n",
    "%matplotlib inline\n",
    "\n",
    "from scipy import stats\n",
    "import statsmodels.api as sm"
   ]
  },
  {
   "cell_type": "markdown",
   "id": "25f7b3fc",
   "metadata": {},
   "source": [
    "## Data Cleaning"
   ]
  },
  {
   "cell_type": "code",
   "execution_count": 2,
   "id": "59f2bbab",
   "metadata": {},
   "outputs": [
    {
     "data": {
      "text/html": [
       "<div>\n",
       "<style scoped>\n",
       "    .dataframe tbody tr th:only-of-type {\n",
       "        vertical-align: middle;\n",
       "    }\n",
       "\n",
       "    .dataframe tbody tr th {\n",
       "        vertical-align: top;\n",
       "    }\n",
       "\n",
       "    .dataframe thead th {\n",
       "        text-align: right;\n",
       "    }\n",
       "</style>\n",
       "<table border=\"1\" class=\"dataframe\">\n",
       "  <thead>\n",
       "    <tr style=\"text-align: right;\">\n",
       "      <th></th>\n",
       "      <th>Year</th>\n",
       "      <th>Week</th>\n",
       "      <th>Address Block</th>\n",
       "      <th>Trap</th>\n",
       "      <th>Trap type</th>\n",
       "      <th>Date</th>\n",
       "      <th>Mosquito number</th>\n",
       "      <th>WNV Present</th>\n",
       "      <th>Species</th>\n",
       "      <th>Lat</th>\n",
       "      <th>Lon</th>\n",
       "      <th>Month</th>\n",
       "    </tr>\n",
       "  </thead>\n",
       "  <tbody>\n",
       "    <tr>\n",
       "      <th>18490</th>\n",
       "      <td>2016</td>\n",
       "      <td>36</td>\n",
       "      <td>3XX W 18TH ST</td>\n",
       "      <td>T043</td>\n",
       "      <td>GRAVID</td>\n",
       "      <td>2016-09-09 00:09:00</td>\n",
       "      <td>4</td>\n",
       "      <td>positive</td>\n",
       "      <td>CULEX PIPIENS</td>\n",
       "      <td>41.857843</td>\n",
       "      <td>-87.635858</td>\n",
       "      <td>9</td>\n",
       "    </tr>\n",
       "    <tr>\n",
       "      <th>18491</th>\n",
       "      <td>2007</td>\n",
       "      <td>34</td>\n",
       "      <td>46XX N MILWAUKEE AVE</td>\n",
       "      <td>T003</td>\n",
       "      <td>GRAVID</td>\n",
       "      <td>2007-08-24 00:08:00</td>\n",
       "      <td>19</td>\n",
       "      <td>positive</td>\n",
       "      <td>CULEX PIPIENS</td>\n",
       "      <td>41.965376</td>\n",
       "      <td>-87.758403</td>\n",
       "      <td>8</td>\n",
       "    </tr>\n",
       "    <tr>\n",
       "      <th>18492</th>\n",
       "      <td>2016</td>\n",
       "      <td>30</td>\n",
       "      <td>127XX S DOTY AVE</td>\n",
       "      <td>T115</td>\n",
       "      <td>GRAVID</td>\n",
       "      <td>2016-07-27 00:07:00</td>\n",
       "      <td>34</td>\n",
       "      <td>positive</td>\n",
       "      <td>CULEX RESTUANS</td>\n",
       "      <td>41.662395</td>\n",
       "      <td>-87.590176</td>\n",
       "      <td>7</td>\n",
       "    </tr>\n",
       "    <tr>\n",
       "      <th>18493</th>\n",
       "      <td>2017</td>\n",
       "      <td>33</td>\n",
       "      <td>20XX N DOMINICK ST</td>\n",
       "      <td>T240B</td>\n",
       "      <td>SENTINEL</td>\n",
       "      <td>2017-08-17 00:08:00</td>\n",
       "      <td>50</td>\n",
       "      <td>positive</td>\n",
       "      <td>CULEX RESTUANS</td>\n",
       "      <td>41.919197</td>\n",
       "      <td>-87.664758</td>\n",
       "      <td>8</td>\n",
       "    </tr>\n",
       "    <tr>\n",
       "      <th>18494</th>\n",
       "      <td>2015</td>\n",
       "      <td>33</td>\n",
       "      <td>100XX W OHARE AIRPORT</td>\n",
       "      <td>T902</td>\n",
       "      <td>GRAVID</td>\n",
       "      <td>2015-08-20 00:08:00</td>\n",
       "      <td>6</td>\n",
       "      <td>positive</td>\n",
       "      <td>CULEX RESTUANS</td>\n",
       "      <td>41.977738</td>\n",
       "      <td>-87.880969</td>\n",
       "      <td>8</td>\n",
       "    </tr>\n",
       "  </tbody>\n",
       "</table>\n",
       "</div>"
      ],
      "text/plain": [
       "       Year  Week          Address Block   Trap Trap type  \\\n",
       "18490  2016    36          3XX W 18TH ST   T043    GRAVID   \n",
       "18491  2007    34   46XX N MILWAUKEE AVE   T003    GRAVID   \n",
       "18492  2016    30       127XX S DOTY AVE   T115    GRAVID   \n",
       "18493  2017    33     20XX N DOMINICK ST  T240B  SENTINEL   \n",
       "18494  2015    33  100XX W OHARE AIRPORT   T902    GRAVID   \n",
       "\n",
       "                      Date  Mosquito number WNV Present         Species  \\\n",
       "18490  2016-09-09 00:09:00                4    positive   CULEX PIPIENS   \n",
       "18491  2007-08-24 00:08:00               19    positive   CULEX PIPIENS   \n",
       "18492  2016-07-27 00:07:00               34    positive  CULEX RESTUANS   \n",
       "18493  2017-08-17 00:08:00               50    positive  CULEX RESTUANS   \n",
       "18494  2015-08-20 00:08:00                6    positive  CULEX RESTUANS   \n",
       "\n",
       "             Lat        Lon  Month  \n",
       "18490  41.857843 -87.635858      9  \n",
       "18491  41.965376 -87.758403      8  \n",
       "18492  41.662395 -87.590176      7  \n",
       "18493  41.919197 -87.664758      8  \n",
       "18494  41.977738 -87.880969      8  "
      ]
     },
     "execution_count": 2,
     "metadata": {},
     "output_type": "execute_result"
    }
   ],
   "source": [
    "df = pd.read_csv(\"mosquito_data_part_2.csv\")\n",
    "df.tail()"
   ]
  },
  {
   "cell_type": "code",
   "execution_count": 3,
   "id": "b95245d8",
   "metadata": {},
   "outputs": [
    {
     "data": {
      "text/plain": [
       "Index(['Year', 'Week', 'Address Block', 'Trap', 'Trap type', 'Date',\n",
       "       'Mosquito number', 'WNV Present', 'Species', 'Lat', 'Lon', 'Month'],\n",
       "      dtype='object')"
      ]
     },
     "execution_count": 3,
     "metadata": {},
     "output_type": "execute_result"
    }
   ],
   "source": [
    "df.columns"
   ]
  },
  {
   "cell_type": "code",
   "execution_count": 4,
   "id": "7ae30746",
   "metadata": {},
   "outputs": [],
   "source": [
    "df = df[['Date', 'Year', 'Month', 'Week', 'Address Block', 'Lat', 'Lon', 'Trap', 'Trap type','Mosquito number',\n",
    "         'Species', 'WNV Present']] #Re-arranging the order of our columns"
   ]
  },
  {
   "cell_type": "code",
   "execution_count": 5,
   "id": "bc075457",
   "metadata": {},
   "outputs": [
    {
     "data": {
      "text/plain": [
       "(18495, 12)"
      ]
     },
     "execution_count": 5,
     "metadata": {},
     "output_type": "execute_result"
    }
   ],
   "source": [
    "df.shape"
   ]
  },
  {
   "cell_type": "code",
   "execution_count": 6,
   "id": "71c41ed7",
   "metadata": {},
   "outputs": [
    {
     "name": "stdout",
     "output_type": "stream",
     "text": [
      "<class 'pandas.core.frame.DataFrame'>\n",
      "RangeIndex: 18495 entries, 0 to 18494\n",
      "Data columns (total 12 columns):\n",
      " #   Column           Non-Null Count  Dtype  \n",
      "---  ------           --------------  -----  \n",
      " 0   Date             18495 non-null  object \n",
      " 1   Year             18495 non-null  int64  \n",
      " 2   Month            18495 non-null  int64  \n",
      " 3   Week             18495 non-null  int64  \n",
      " 4   Address Block    18495 non-null  object \n",
      " 5   Lat              18495 non-null  float64\n",
      " 6   Lon              18495 non-null  float64\n",
      " 7   Trap             18495 non-null  object \n",
      " 8   Trap type        18495 non-null  object \n",
      " 9   Mosquito number  18495 non-null  int64  \n",
      " 10  Species          18495 non-null  object \n",
      " 11  WNV Present      18495 non-null  object \n",
      "dtypes: float64(2), int64(4), object(6)\n",
      "memory usage: 1.7+ MB\n"
     ]
    }
   ],
   "source": [
    "df.info()"
   ]
  },
  {
   "cell_type": "markdown",
   "id": "8d776f33",
   "metadata": {},
   "source": [
    "There are 18495 rows and 12 columns in our dataset which contain float64, int64 and string data types"
   ]
  },
  {
   "cell_type": "code",
   "execution_count": 7,
   "id": "392ed193",
   "metadata": {},
   "outputs": [
    {
     "data": {
      "text/plain": [
       "Date               0\n",
       "Year               0\n",
       "Month              0\n",
       "Week               0\n",
       "Address Block      0\n",
       "Lat                0\n",
       "Lon                0\n",
       "Trap               0\n",
       "Trap type          0\n",
       "Mosquito number    0\n",
       "Species            0\n",
       "WNV Present        0\n",
       "dtype: int64"
      ]
     },
     "execution_count": 7,
     "metadata": {},
     "output_type": "execute_result"
    }
   ],
   "source": [
    "df.isna().sum(axis =0)"
   ]
  },
  {
   "cell_type": "markdown",
   "id": "7c1c2bfe",
   "metadata": {},
   "source": [
    "There is no null data in our dataset and the count of values for each column matches the total number of rows. Next we can check for duplicates"
   ]
  },
  {
   "cell_type": "code",
   "execution_count": 8,
   "id": "89483ecb",
   "metadata": {},
   "outputs": [
    {
     "data": {
      "text/html": [
       "<div>\n",
       "<style scoped>\n",
       "    .dataframe tbody tr th:only-of-type {\n",
       "        vertical-align: middle;\n",
       "    }\n",
       "\n",
       "    .dataframe tbody tr th {\n",
       "        vertical-align: top;\n",
       "    }\n",
       "\n",
       "    .dataframe thead th {\n",
       "        text-align: right;\n",
       "    }\n",
       "</style>\n",
       "<table border=\"1\" class=\"dataframe\">\n",
       "  <thead>\n",
       "    <tr style=\"text-align: right;\">\n",
       "      <th></th>\n",
       "      <th>Date</th>\n",
       "      <th>Year</th>\n",
       "      <th>Month</th>\n",
       "      <th>Week</th>\n",
       "      <th>Address Block</th>\n",
       "      <th>Lat</th>\n",
       "      <th>Lon</th>\n",
       "      <th>Trap</th>\n",
       "      <th>Trap type</th>\n",
       "      <th>Mosquito number</th>\n",
       "      <th>Species</th>\n",
       "      <th>WNV Present</th>\n",
       "    </tr>\n",
       "  </thead>\n",
       "  <tbody>\n",
       "    <tr>\n",
       "      <th>15495</th>\n",
       "      <td>2018-08-23 00:08:00</td>\n",
       "      <td>2018</td>\n",
       "      <td>8</td>\n",
       "      <td>34</td>\n",
       "      <td>100XX W OHARE AIRPORT</td>\n",
       "      <td>41.977738</td>\n",
       "      <td>-87.880969</td>\n",
       "      <td>T912</td>\n",
       "      <td>GRAVID</td>\n",
       "      <td>3</td>\n",
       "      <td>CULEX PIPIENS</td>\n",
       "      <td>positive</td>\n",
       "    </tr>\n",
       "    <tr>\n",
       "      <th>15504</th>\n",
       "      <td>2011-08-12 00:08:00</td>\n",
       "      <td>2011</td>\n",
       "      <td>8</td>\n",
       "      <td>32</td>\n",
       "      <td>100XX W OHARE AIRPORT</td>\n",
       "      <td>41.977738</td>\n",
       "      <td>-87.880969</td>\n",
       "      <td>T916</td>\n",
       "      <td>GRAVID</td>\n",
       "      <td>11</td>\n",
       "      <td>CULEX PIPIENS</td>\n",
       "      <td>positive</td>\n",
       "    </tr>\n",
       "    <tr>\n",
       "      <th>15520</th>\n",
       "      <td>2010-08-20 00:08:00</td>\n",
       "      <td>2010</td>\n",
       "      <td>8</td>\n",
       "      <td>33</td>\n",
       "      <td>100XX W OHARE</td>\n",
       "      <td>41.977738</td>\n",
       "      <td>-87.880969</td>\n",
       "      <td>T903</td>\n",
       "      <td>GRAVID</td>\n",
       "      <td>27</td>\n",
       "      <td>CULEX RESTUANS</td>\n",
       "      <td>positive</td>\n",
       "    </tr>\n",
       "    <tr>\n",
       "      <th>15523</th>\n",
       "      <td>2016-08-25 00:08:00</td>\n",
       "      <td>2016</td>\n",
       "      <td>8</td>\n",
       "      <td>34</td>\n",
       "      <td>100XX W OHARE AIRPORT</td>\n",
       "      <td>41.977738</td>\n",
       "      <td>-87.880969</td>\n",
       "      <td>T911</td>\n",
       "      <td>GRAVID</td>\n",
       "      <td>8</td>\n",
       "      <td>CULEX RESTUANS</td>\n",
       "      <td>positive</td>\n",
       "    </tr>\n",
       "    <tr>\n",
       "      <th>15528</th>\n",
       "      <td>2017-08-24 00:08:00</td>\n",
       "      <td>2017</td>\n",
       "      <td>8</td>\n",
       "      <td>34</td>\n",
       "      <td>100XX W OHARE AIRPORT</td>\n",
       "      <td>41.977738</td>\n",
       "      <td>-87.880969</td>\n",
       "      <td>T900</td>\n",
       "      <td>GRAVID</td>\n",
       "      <td>2</td>\n",
       "      <td>CULEX RESTUANS</td>\n",
       "      <td>positive</td>\n",
       "    </tr>\n",
       "    <tr>\n",
       "      <th>...</th>\n",
       "      <td>...</td>\n",
       "      <td>...</td>\n",
       "      <td>...</td>\n",
       "      <td>...</td>\n",
       "      <td>...</td>\n",
       "      <td>...</td>\n",
       "      <td>...</td>\n",
       "      <td>...</td>\n",
       "      <td>...</td>\n",
       "      <td>...</td>\n",
       "      <td>...</td>\n",
       "      <td>...</td>\n",
       "    </tr>\n",
       "    <tr>\n",
       "      <th>18476</th>\n",
       "      <td>2013-07-19 00:07:00</td>\n",
       "      <td>2013</td>\n",
       "      <td>7</td>\n",
       "      <td>29</td>\n",
       "      <td>100XX W OHARE AIRPORT</td>\n",
       "      <td>41.977738</td>\n",
       "      <td>-87.880969</td>\n",
       "      <td>T912</td>\n",
       "      <td>GRAVID</td>\n",
       "      <td>46</td>\n",
       "      <td>CULEX RESTUANS</td>\n",
       "      <td>positive</td>\n",
       "    </tr>\n",
       "    <tr>\n",
       "      <th>18477</th>\n",
       "      <td>2013-08-29 00:08:00</td>\n",
       "      <td>2013</td>\n",
       "      <td>8</td>\n",
       "      <td>35</td>\n",
       "      <td>100XX W OHARE AIRPORT</td>\n",
       "      <td>41.977738</td>\n",
       "      <td>-87.880969</td>\n",
       "      <td>T906</td>\n",
       "      <td>GRAVID</td>\n",
       "      <td>50</td>\n",
       "      <td>CULEX PIPIENS</td>\n",
       "      <td>positive</td>\n",
       "    </tr>\n",
       "    <tr>\n",
       "      <th>18486</th>\n",
       "      <td>2016-07-21 00:07:00</td>\n",
       "      <td>2016</td>\n",
       "      <td>7</td>\n",
       "      <td>29</td>\n",
       "      <td>100XX W OHARE AIRPORT</td>\n",
       "      <td>41.977738</td>\n",
       "      <td>-87.880969</td>\n",
       "      <td>T911</td>\n",
       "      <td>GRAVID</td>\n",
       "      <td>47</td>\n",
       "      <td>CULEX RESTUANS</td>\n",
       "      <td>positive</td>\n",
       "    </tr>\n",
       "    <tr>\n",
       "      <th>18488</th>\n",
       "      <td>2017-07-27 00:07:00</td>\n",
       "      <td>2017</td>\n",
       "      <td>7</td>\n",
       "      <td>30</td>\n",
       "      <td>100XX W OHARE AIRPORT</td>\n",
       "      <td>41.977738</td>\n",
       "      <td>-87.880969</td>\n",
       "      <td>T900</td>\n",
       "      <td>GRAVID</td>\n",
       "      <td>17</td>\n",
       "      <td>CULEX RESTUANS</td>\n",
       "      <td>positive</td>\n",
       "    </tr>\n",
       "    <tr>\n",
       "      <th>18494</th>\n",
       "      <td>2015-08-20 00:08:00</td>\n",
       "      <td>2015</td>\n",
       "      <td>8</td>\n",
       "      <td>33</td>\n",
       "      <td>100XX W OHARE AIRPORT</td>\n",
       "      <td>41.977738</td>\n",
       "      <td>-87.880969</td>\n",
       "      <td>T902</td>\n",
       "      <td>GRAVID</td>\n",
       "      <td>6</td>\n",
       "      <td>CULEX RESTUANS</td>\n",
       "      <td>positive</td>\n",
       "    </tr>\n",
       "  </tbody>\n",
       "</table>\n",
       "<p>658 rows × 12 columns</p>\n",
       "</div>"
      ],
      "text/plain": [
       "                      Date  Year  Month  Week          Address Block  \\\n",
       "15495  2018-08-23 00:08:00  2018      8    34  100XX W OHARE AIRPORT   \n",
       "15504  2011-08-12 00:08:00  2011      8    32  100XX W OHARE AIRPORT   \n",
       "15520  2010-08-20 00:08:00  2010      8    33          100XX W OHARE   \n",
       "15523  2016-08-25 00:08:00  2016      8    34  100XX W OHARE AIRPORT   \n",
       "15528  2017-08-24 00:08:00  2017      8    34  100XX W OHARE AIRPORT   \n",
       "...                    ...   ...    ...   ...                    ...   \n",
       "18476  2013-07-19 00:07:00  2013      7    29  100XX W OHARE AIRPORT   \n",
       "18477  2013-08-29 00:08:00  2013      8    35  100XX W OHARE AIRPORT   \n",
       "18486  2016-07-21 00:07:00  2016      7    29  100XX W OHARE AIRPORT   \n",
       "18488  2017-07-27 00:07:00  2017      7    30  100XX W OHARE AIRPORT   \n",
       "18494  2015-08-20 00:08:00  2015      8    33  100XX W OHARE AIRPORT   \n",
       "\n",
       "             Lat        Lon  Trap Trap type  Mosquito number         Species  \\\n",
       "15495  41.977738 -87.880969  T912    GRAVID                3   CULEX PIPIENS   \n",
       "15504  41.977738 -87.880969  T916    GRAVID               11   CULEX PIPIENS   \n",
       "15520  41.977738 -87.880969  T903    GRAVID               27  CULEX RESTUANS   \n",
       "15523  41.977738 -87.880969  T911    GRAVID                8  CULEX RESTUANS   \n",
       "15528  41.977738 -87.880969  T900    GRAVID                2  CULEX RESTUANS   \n",
       "...          ...        ...   ...       ...              ...             ...   \n",
       "18476  41.977738 -87.880969  T912    GRAVID               46  CULEX RESTUANS   \n",
       "18477  41.977738 -87.880969  T906    GRAVID               50   CULEX PIPIENS   \n",
       "18486  41.977738 -87.880969  T911    GRAVID               47  CULEX RESTUANS   \n",
       "18488  41.977738 -87.880969  T900    GRAVID               17  CULEX RESTUANS   \n",
       "18494  41.977738 -87.880969  T902    GRAVID                6  CULEX RESTUANS   \n",
       "\n",
       "      WNV Present  \n",
       "15495    positive  \n",
       "15504    positive  \n",
       "15520    positive  \n",
       "15523    positive  \n",
       "15528    positive  \n",
       "...           ...  \n",
       "18476    positive  \n",
       "18477    positive  \n",
       "18486    positive  \n",
       "18488    positive  \n",
       "18494    positive  \n",
       "\n",
       "[658 rows x 12 columns]"
      ]
     },
     "execution_count": 8,
     "metadata": {},
     "output_type": "execute_result"
    }
   ],
   "source": [
    "df[df.duplicated()]"
   ]
  },
  {
   "cell_type": "markdown",
   "id": "995d2787",
   "metadata": {},
   "source": [
    "There are 658 rows of duplicate data within our dataset. The test results are organized in such a way that when the number of mosquitoes exceed 50 they are split into another row in the dataset. Hence, it is likely that a new row was added each time the sample size was larger than 50 causing us to have multiple duplicate rows where mosquito number is 50."
   ]
  },
  {
   "cell_type": "code",
   "execution_count": 9,
   "id": "ea2edb03",
   "metadata": {},
   "outputs": [
    {
     "data": {
      "text/html": [
       "<div>\n",
       "<style scoped>\n",
       "    .dataframe tbody tr th:only-of-type {\n",
       "        vertical-align: middle;\n",
       "    }\n",
       "\n",
       "    .dataframe tbody tr th {\n",
       "        vertical-align: top;\n",
       "    }\n",
       "\n",
       "    .dataframe thead th {\n",
       "        text-align: right;\n",
       "    }\n",
       "</style>\n",
       "<table border=\"1\" class=\"dataframe\">\n",
       "  <thead>\n",
       "    <tr style=\"text-align: right;\">\n",
       "      <th></th>\n",
       "      <th>Date</th>\n",
       "      <th>Year</th>\n",
       "      <th>Month</th>\n",
       "      <th>Week</th>\n",
       "      <th>Address Block</th>\n",
       "      <th>Lat</th>\n",
       "      <th>Lon</th>\n",
       "      <th>Trap</th>\n",
       "      <th>Trap type</th>\n",
       "      <th>Mosquito number</th>\n",
       "      <th>Species</th>\n",
       "      <th>WNV Present</th>\n",
       "    </tr>\n",
       "  </thead>\n",
       "  <tbody>\n",
       "    <tr>\n",
       "      <th>15531</th>\n",
       "      <td>2015-07-02 00:07:00</td>\n",
       "      <td>2015</td>\n",
       "      <td>7</td>\n",
       "      <td>26</td>\n",
       "      <td>100XX W OHARE AIRPORT</td>\n",
       "      <td>41.977738</td>\n",
       "      <td>-87.880969</td>\n",
       "      <td>T902</td>\n",
       "      <td>GRAVID</td>\n",
       "      <td>50</td>\n",
       "      <td>CULEX RESTUANS</td>\n",
       "      <td>positive</td>\n",
       "    </tr>\n",
       "    <tr>\n",
       "      <th>15542</th>\n",
       "      <td>2018-06-21 00:06:00</td>\n",
       "      <td>2018</td>\n",
       "      <td>6</td>\n",
       "      <td>25</td>\n",
       "      <td>100XX W OHARE AIRPORT</td>\n",
       "      <td>41.977738</td>\n",
       "      <td>-87.880969</td>\n",
       "      <td>T912</td>\n",
       "      <td>GRAVID</td>\n",
       "      <td>50</td>\n",
       "      <td>CULEX RESTUANS</td>\n",
       "      <td>positive</td>\n",
       "    </tr>\n",
       "    <tr>\n",
       "      <th>15572</th>\n",
       "      <td>2016-07-27 00:07:00</td>\n",
       "      <td>2016</td>\n",
       "      <td>7</td>\n",
       "      <td>30</td>\n",
       "      <td>100XX W OHARE AIRPORT</td>\n",
       "      <td>41.977738</td>\n",
       "      <td>-87.880969</td>\n",
       "      <td>T913</td>\n",
       "      <td>GRAVID</td>\n",
       "      <td>50</td>\n",
       "      <td>CULEX RESTUANS</td>\n",
       "      <td>positive</td>\n",
       "    </tr>\n",
       "    <tr>\n",
       "      <th>15573</th>\n",
       "      <td>2016-08-04 00:08:00</td>\n",
       "      <td>2016</td>\n",
       "      <td>8</td>\n",
       "      <td>31</td>\n",
       "      <td>100XX W OHARE AIRPORT</td>\n",
       "      <td>41.977738</td>\n",
       "      <td>-87.880969</td>\n",
       "      <td>T912</td>\n",
       "      <td>GRAVID</td>\n",
       "      <td>50</td>\n",
       "      <td>CULEX RESTUANS</td>\n",
       "      <td>positive</td>\n",
       "    </tr>\n",
       "    <tr>\n",
       "      <th>15590</th>\n",
       "      <td>2015-08-06 00:08:00</td>\n",
       "      <td>2015</td>\n",
       "      <td>8</td>\n",
       "      <td>31</td>\n",
       "      <td>100XX W OHARE AIRPORT</td>\n",
       "      <td>41.977738</td>\n",
       "      <td>-87.880969</td>\n",
       "      <td>T923</td>\n",
       "      <td>GRAVID</td>\n",
       "      <td>50</td>\n",
       "      <td>CULEX RESTUANS</td>\n",
       "      <td>positive</td>\n",
       "    </tr>\n",
       "    <tr>\n",
       "      <th>...</th>\n",
       "      <td>...</td>\n",
       "      <td>...</td>\n",
       "      <td>...</td>\n",
       "      <td>...</td>\n",
       "      <td>...</td>\n",
       "      <td>...</td>\n",
       "      <td>...</td>\n",
       "      <td>...</td>\n",
       "      <td>...</td>\n",
       "      <td>...</td>\n",
       "      <td>...</td>\n",
       "      <td>...</td>\n",
       "    </tr>\n",
       "    <tr>\n",
       "      <th>18329</th>\n",
       "      <td>2018-06-21 00:06:00</td>\n",
       "      <td>2018</td>\n",
       "      <td>6</td>\n",
       "      <td>25</td>\n",
       "      <td>100XX W OHARE AIRPORT</td>\n",
       "      <td>41.977738</td>\n",
       "      <td>-87.880969</td>\n",
       "      <td>T912</td>\n",
       "      <td>GRAVID</td>\n",
       "      <td>50</td>\n",
       "      <td>CULEX RESTUANS</td>\n",
       "      <td>positive</td>\n",
       "    </tr>\n",
       "    <tr>\n",
       "      <th>18335</th>\n",
       "      <td>2016-07-27 00:07:00</td>\n",
       "      <td>2016</td>\n",
       "      <td>7</td>\n",
       "      <td>30</td>\n",
       "      <td>100XX W OHARE AIRPORT</td>\n",
       "      <td>41.977738</td>\n",
       "      <td>-87.880969</td>\n",
       "      <td>T913</td>\n",
       "      <td>GRAVID</td>\n",
       "      <td>50</td>\n",
       "      <td>CULEX PIPIENS</td>\n",
       "      <td>positive</td>\n",
       "    </tr>\n",
       "    <tr>\n",
       "      <th>18387</th>\n",
       "      <td>2016-07-27 00:07:00</td>\n",
       "      <td>2016</td>\n",
       "      <td>7</td>\n",
       "      <td>30</td>\n",
       "      <td>100XX W OHARE AIRPORT</td>\n",
       "      <td>41.977738</td>\n",
       "      <td>-87.880969</td>\n",
       "      <td>T913</td>\n",
       "      <td>GRAVID</td>\n",
       "      <td>50</td>\n",
       "      <td>CULEX PIPIENS</td>\n",
       "      <td>positive</td>\n",
       "    </tr>\n",
       "    <tr>\n",
       "      <th>18473</th>\n",
       "      <td>2016-07-27 00:07:00</td>\n",
       "      <td>2016</td>\n",
       "      <td>7</td>\n",
       "      <td>30</td>\n",
       "      <td>100XX W OHARE AIRPORT</td>\n",
       "      <td>41.977738</td>\n",
       "      <td>-87.880969</td>\n",
       "      <td>T916</td>\n",
       "      <td>GRAVID</td>\n",
       "      <td>50</td>\n",
       "      <td>CULEX RESTUANS</td>\n",
       "      <td>positive</td>\n",
       "    </tr>\n",
       "    <tr>\n",
       "      <th>18477</th>\n",
       "      <td>2013-08-29 00:08:00</td>\n",
       "      <td>2013</td>\n",
       "      <td>8</td>\n",
       "      <td>35</td>\n",
       "      <td>100XX W OHARE AIRPORT</td>\n",
       "      <td>41.977738</td>\n",
       "      <td>-87.880969</td>\n",
       "      <td>T906</td>\n",
       "      <td>GRAVID</td>\n",
       "      <td>50</td>\n",
       "      <td>CULEX PIPIENS</td>\n",
       "      <td>positive</td>\n",
       "    </tr>\n",
       "  </tbody>\n",
       "</table>\n",
       "<p>76 rows × 12 columns</p>\n",
       "</div>"
      ],
      "text/plain": [
       "                      Date  Year  Month  Week          Address Block  \\\n",
       "15531  2015-07-02 00:07:00  2015      7    26  100XX W OHARE AIRPORT   \n",
       "15542  2018-06-21 00:06:00  2018      6    25  100XX W OHARE AIRPORT   \n",
       "15572  2016-07-27 00:07:00  2016      7    30  100XX W OHARE AIRPORT   \n",
       "15573  2016-08-04 00:08:00  2016      8    31  100XX W OHARE AIRPORT   \n",
       "15590  2015-08-06 00:08:00  2015      8    31  100XX W OHARE AIRPORT   \n",
       "...                    ...   ...    ...   ...                    ...   \n",
       "18329  2018-06-21 00:06:00  2018      6    25  100XX W OHARE AIRPORT   \n",
       "18335  2016-07-27 00:07:00  2016      7    30  100XX W OHARE AIRPORT   \n",
       "18387  2016-07-27 00:07:00  2016      7    30  100XX W OHARE AIRPORT   \n",
       "18473  2016-07-27 00:07:00  2016      7    30  100XX W OHARE AIRPORT   \n",
       "18477  2013-08-29 00:08:00  2013      8    35  100XX W OHARE AIRPORT   \n",
       "\n",
       "             Lat        Lon  Trap Trap type  Mosquito number         Species  \\\n",
       "15531  41.977738 -87.880969  T902    GRAVID               50  CULEX RESTUANS   \n",
       "15542  41.977738 -87.880969  T912    GRAVID               50  CULEX RESTUANS   \n",
       "15572  41.977738 -87.880969  T913    GRAVID               50  CULEX RESTUANS   \n",
       "15573  41.977738 -87.880969  T912    GRAVID               50  CULEX RESTUANS   \n",
       "15590  41.977738 -87.880969  T923    GRAVID               50  CULEX RESTUANS   \n",
       "...          ...        ...   ...       ...              ...             ...   \n",
       "18329  41.977738 -87.880969  T912    GRAVID               50  CULEX RESTUANS   \n",
       "18335  41.977738 -87.880969  T913    GRAVID               50   CULEX PIPIENS   \n",
       "18387  41.977738 -87.880969  T913    GRAVID               50   CULEX PIPIENS   \n",
       "18473  41.977738 -87.880969  T916    GRAVID               50  CULEX RESTUANS   \n",
       "18477  41.977738 -87.880969  T906    GRAVID               50   CULEX PIPIENS   \n",
       "\n",
       "      WNV Present  \n",
       "15531    positive  \n",
       "15542    positive  \n",
       "15572    positive  \n",
       "15573    positive  \n",
       "15590    positive  \n",
       "...           ...  \n",
       "18329    positive  \n",
       "18335    positive  \n",
       "18387    positive  \n",
       "18473    positive  \n",
       "18477    positive  \n",
       "\n",
       "[76 rows x 12 columns]"
      ]
     },
     "execution_count": 9,
     "metadata": {},
     "output_type": "execute_result"
    }
   ],
   "source": [
    "duplicate_df = df[df.duplicated()]\n",
    "duplicate_df[duplicate_df['Mosquito number'] >= 50]"
   ]
  },
  {
   "cell_type": "markdown",
   "id": "a786fd05",
   "metadata": {},
   "source": [
    "As seen above, we have 76 rows of duplicate data in our dataset where mosquito number is 50. We will keep these rows and exclude other duplicate rows where mosquito number is less than 50 since those should have been recorded just once."
   ]
  },
  {
   "cell_type": "code",
   "execution_count": 10,
   "id": "1de97d7f",
   "metadata": {},
   "outputs": [],
   "source": [
    "# dropping duplicate rows where mosquito number is less than 50\n",
    "df = df.drop(duplicate_df[duplicate_df['Mosquito number'] < 50].index, axis = 0)"
   ]
  },
  {
   "cell_type": "code",
   "execution_count": 11,
   "id": "aca0192d",
   "metadata": {},
   "outputs": [
    {
     "data": {
      "text/plain": [
       "(17913, 12)"
      ]
     },
     "execution_count": 11,
     "metadata": {},
     "output_type": "execute_result"
    }
   ],
   "source": [
    "df.shape"
   ]
  },
  {
   "cell_type": "code",
   "execution_count": 12,
   "id": "c7ad68a5",
   "metadata": {},
   "outputs": [
    {
     "data": {
      "text/plain": [
       "76"
      ]
     },
     "execution_count": 12,
     "metadata": {},
     "output_type": "execute_result"
    }
   ],
   "source": [
    "df.duplicated().sum()"
   ]
  },
  {
   "cell_type": "markdown",
   "id": "1e71cac3",
   "metadata": {},
   "source": [
    "After excluding the duplicated rows, we are left with 17,913 rows of non-null data to work with."
   ]
  },
  {
   "cell_type": "markdown",
   "id": "cafefc6b",
   "metadata": {},
   "source": [
    "## Exploratory Data Analysis"
   ]
  },
  {
   "cell_type": "markdown",
   "id": "037f1b05",
   "metadata": {},
   "source": [
    "To further analyze the date, we can split the columns into two based on the data types - Categorial & Numerical:"
   ]
  },
  {
   "cell_type": "code",
   "execution_count": 13,
   "id": "df8d0460",
   "metadata": {},
   "outputs": [
    {
     "data": {
      "text/plain": [
       "Index(['Year', 'Month', 'Week', 'Lat', 'Lon', 'Mosquito number'], dtype='object')"
      ]
     },
     "execution_count": 13,
     "metadata": {},
     "output_type": "execute_result"
    }
   ],
   "source": [
    "num_columns = df.select_dtypes('number').columns[:]\n",
    "num_columns"
   ]
  },
  {
   "cell_type": "code",
   "execution_count": 14,
   "id": "e3c3f25d",
   "metadata": {},
   "outputs": [
    {
     "data": {
      "text/plain": [
       "Index(['Date', 'Address Block', 'Trap', 'Trap type', 'Species', 'WNV Present'], dtype='object')"
      ]
     },
     "execution_count": 14,
     "metadata": {},
     "output_type": "execute_result"
    }
   ],
   "source": [
    "categ_columns = df.select_dtypes('object').columns[:]\n",
    "categ_columns"
   ]
  },
  {
   "cell_type": "markdown",
   "id": "20653ef0",
   "metadata": {},
   "source": [
    "We can also look at how the data in the numerical columns are distributed:"
   ]
  },
  {
   "cell_type": "code",
   "execution_count": 15,
   "id": "9a96411b",
   "metadata": {},
   "outputs": [
    {
     "data": {
      "image/png": "[encoded data removed]",
      "text/plain": [
       "<Figure size 720x576 with 6 Axes>"
      ]
     },
     "metadata": {
      "needs_background": "light"
     },
     "output_type": "display_data"
    }
   ],
   "source": [
    "# Creating subplots to show the distribution of each numerical column\n",
    "\n",
    "plt.subplots(3,2,figsize=(10,8))\n",
    "plot_num=1\n",
    "for column in num_columns:\n",
    "    plt.subplot(3,2,plot_num)\n",
    "    sns.histplot(data = df, x = column)\n",
    "    #df.groupby('WNV Present')[column].count().plot(kind = 'barh')\n",
    "    plt.title('Breakdown by - '+ column)\n",
    "    plt.xlabel(column)\n",
    "    plt.ylabel('Count')\n",
    "    plot_num +=1\n",
    "\n",
    "plt.tight_layout()\n",
    "plt.show()"
   ]
  },
  {
   "cell_type": "markdown",
   "id": "202ef8a3",
   "metadata": {},
   "source": [
    "- The highest number of tests were done in 2007. Although it varies by year, the count appears to be trending downward over time.\n",
    "- The most number of samples were collected in August (8th month).\n",
    "- The distribution of Mosquito number is not normal. It is heavily skewed to the right side of the graph."
   ]
  },
  {
   "cell_type": "code",
   "execution_count": 16,
   "id": "3a6f8195",
   "metadata": {},
   "outputs": [
    {
     "data": {
      "image/png": "[encoded data removed]",
      "text/plain": [
       "<Figure size 1152x720 with 6 Axes>"
      ]
     },
     "metadata": {
      "needs_background": "light"
     },
     "output_type": "display_data"
    }
   ],
   "source": [
    "# Creating subplots to show the distribution of each numerical column\n",
    "\n",
    "plt.subplots(3,2,figsize=(16,10))\n",
    "plot_num=1\n",
    "for column in categ_columns:\n",
    "    plt.subplot(3,2,plot_num)\n",
    "    sns.histplot(data = df, x = column)\n",
    "    plt.rcParams['font.size'] = 18\n",
    "    plt.title('Breakdown by - '+ column)\n",
    "    plt.xlabel(column)\n",
    "    plt.ylabel('Count')\n",
    "    plot_num +=1\n",
    "\n",
    "plt.tight_layout()\n",
    "plt.show()"
   ]
  },
  {
   "cell_type": "markdown",
   "id": "8290a235",
   "metadata": {},
   "source": [
    "From the charts above, we can see that:\n",
    "- A large number of records were taken from one particular address block in our dataset\n",
    "- GRAVID trap type was the most recorded in our dataset out of 4 unique types used.\n",
    "- The most identified mosquito species was CULEX RESTUANS, out of 4 unique species seen.\n",
    "- Our dataset is not balanced with respect to WNV positive and negative cases as we have a higher number of negative cases"
   ]
  },
  {
   "cell_type": "code",
   "execution_count": 17,
   "id": "3cf99e42",
   "metadata": {},
   "outputs": [
    {
     "data": {
      "text/plain": [
       "negative    81.0\n",
       "positive    19.0\n",
       "Name: WNV Present, dtype: float64"
      ]
     },
     "execution_count": 17,
     "metadata": {},
     "output_type": "execute_result"
    }
   ],
   "source": [
    "round(df['WNV Present'].value_counts(normalize = True)*100,1)"
   ]
  },
  {
   "cell_type": "markdown",
   "id": "95259e7b",
   "metadata": {},
   "source": [
    "At a quick glance we can see that out of 17,913 rows of test data, 19% represent WNV positive cases while 81.0% are WNV negative. Our dataset is not equally balanced between postive and negative cases."
   ]
  },
  {
   "cell_type": "code",
   "execution_count": 18,
   "id": "8676e2e7",
   "metadata": {},
   "outputs": [
    {
     "data": {
      "image/png": "[encoded data removed]",
      "text/plain": [
       "<Figure size 432x288 with 1 Axes>"
      ]
     },
     "metadata": {
      "needs_background": "light"
     },
     "output_type": "display_data"
    },
    {
     "data": {
      "image/png": "[encoded data removed]",
      "text/plain": [
       "<Figure size 432x288 with 1 Axes>"
      ]
     },
     "metadata": {
      "needs_background": "light"
     },
     "output_type": "display_data"
    }
   ],
   "source": [
    "# Creating plots to show how WNV Presence varies among trap type & species columns\n",
    "\n",
    "for column in ['Trap type', 'Species']:\n",
    "    wnv = df.groupby([column, 'WNV Present'])['WNV Present'].count()/df.groupby(column)['WNV Present'].count()\n",
    "    wnv.unstack()[['positive', 'negative']].sort_values(\"positive\").plot(kind = 'barh', stacked=True)\n",
    "    plt.title('Breakdown by - '+ column)\n",
    "    plt.rcParams['font.size'] = 13\n",
    "    plt.xlabel(column)\n",
    "    plt.ylabel('Count')\n",
    "\n",
    "plt.tight_layout()\n",
    "plt.show()"
   ]
  },
  {
   "cell_type": "markdown",
   "id": "476d07f1",
   "metadata": {},
   "source": [
    "- Although not a lof of records were done using the SENTINEL & CDC trap types, both caught a higher proportion of WNV positive mosquitos compared to GRAVID trap type.\n",
    "- CULEX PIPIENS Species showed the highest number of WNV positive cases, followed by CULEX RESTUANS"
   ]
  },
  {
   "cell_type": "markdown",
   "id": "927bdbba",
   "metadata": {},
   "source": [
    "## Statistical Analysis"
   ]
  },
  {
   "cell_type": "code",
   "execution_count": 19,
   "id": "55bb0cd8",
   "metadata": {},
   "outputs": [
    {
     "data": {
      "text/html": [
       "<div>\n",
       "<style scoped>\n",
       "    .dataframe tbody tr th:only-of-type {\n",
       "        vertical-align: middle;\n",
       "    }\n",
       "\n",
       "    .dataframe tbody tr th {\n",
       "        vertical-align: top;\n",
       "    }\n",
       "\n",
       "    .dataframe thead th {\n",
       "        text-align: right;\n",
       "    }\n",
       "</style>\n",
       "<table border=\"1\" class=\"dataframe\">\n",
       "  <thead>\n",
       "    <tr style=\"text-align: right;\">\n",
       "      <th></th>\n",
       "      <th>Date</th>\n",
       "      <th>Year</th>\n",
       "      <th>Month</th>\n",
       "      <th>Week</th>\n",
       "      <th>Address Block</th>\n",
       "      <th>Lat</th>\n",
       "      <th>Lon</th>\n",
       "      <th>Trap</th>\n",
       "      <th>Trap type</th>\n",
       "      <th>Mosquito number</th>\n",
       "      <th>Species</th>\n",
       "      <th>WNV Present</th>\n",
       "    </tr>\n",
       "  </thead>\n",
       "  <tbody>\n",
       "    <tr>\n",
       "      <th>count</th>\n",
       "      <td>17913</td>\n",
       "      <td>17913.000000</td>\n",
       "      <td>17913.000000</td>\n",
       "      <td>17913.000000</td>\n",
       "      <td>17913</td>\n",
       "      <td>17913.000000</td>\n",
       "      <td>17913.000000</td>\n",
       "      <td>17913</td>\n",
       "      <td>17913</td>\n",
       "      <td>17913.000000</td>\n",
       "      <td>17913</td>\n",
       "      <td>17913</td>\n",
       "    </tr>\n",
       "    <tr>\n",
       "      <th>unique</th>\n",
       "      <td>298</td>\n",
       "      <td>NaN</td>\n",
       "      <td>NaN</td>\n",
       "      <td>NaN</td>\n",
       "      <td>154</td>\n",
       "      <td>NaN</td>\n",
       "      <td>NaN</td>\n",
       "      <td>190</td>\n",
       "      <td>4</td>\n",
       "      <td>NaN</td>\n",
       "      <td>4</td>\n",
       "      <td>2</td>\n",
       "    </tr>\n",
       "    <tr>\n",
       "      <th>top</th>\n",
       "      <td>2016-08-04 00:08:00</td>\n",
       "      <td>NaN</td>\n",
       "      <td>NaN</td>\n",
       "      <td>NaN</td>\n",
       "      <td>100XX W OHARE AIRPORT</td>\n",
       "      <td>NaN</td>\n",
       "      <td>NaN</td>\n",
       "      <td>T002</td>\n",
       "      <td>GRAVID</td>\n",
       "      <td>NaN</td>\n",
       "      <td>CULEX RESTUANS</td>\n",
       "      <td>negative</td>\n",
       "    </tr>\n",
       "    <tr>\n",
       "      <th>freq</th>\n",
       "      <td>225</td>\n",
       "      <td>NaN</td>\n",
       "      <td>NaN</td>\n",
       "      <td>NaN</td>\n",
       "      <td>1565</td>\n",
       "      <td>NaN</td>\n",
       "      <td>NaN</td>\n",
       "      <td>406</td>\n",
       "      <td>17170</td>\n",
       "      <td>NaN</td>\n",
       "      <td>11450</td>\n",
       "      <td>14501</td>\n",
       "    </tr>\n",
       "    <tr>\n",
       "      <th>mean</th>\n",
       "      <td>NaN</td>\n",
       "      <td>2012.859320</td>\n",
       "      <td>7.620052</td>\n",
       "      <td>30.971641</td>\n",
       "      <td>NaN</td>\n",
       "      <td>41.849345</td>\n",
       "      <td>-87.707935</td>\n",
       "      <td>NaN</td>\n",
       "      <td>NaN</td>\n",
       "      <td>10.626584</td>\n",
       "      <td>NaN</td>\n",
       "      <td>NaN</td>\n",
       "    </tr>\n",
       "    <tr>\n",
       "      <th>std</th>\n",
       "      <td>NaN</td>\n",
       "      <td>3.734186</td>\n",
       "      <td>1.006069</td>\n",
       "      <td>4.373486</td>\n",
       "      <td>NaN</td>\n",
       "      <td>0.114904</td>\n",
       "      <td>0.092311</td>\n",
       "      <td>NaN</td>\n",
       "      <td>NaN</td>\n",
       "      <td>13.403571</td>\n",
       "      <td>NaN</td>\n",
       "      <td>NaN</td>\n",
       "    </tr>\n",
       "    <tr>\n",
       "      <th>min</th>\n",
       "      <td>NaN</td>\n",
       "      <td>2007.000000</td>\n",
       "      <td>5.000000</td>\n",
       "      <td>20.000000</td>\n",
       "      <td>NaN</td>\n",
       "      <td>41.644720</td>\n",
       "      <td>-87.880969</td>\n",
       "      <td>NaN</td>\n",
       "      <td>NaN</td>\n",
       "      <td>1.000000</td>\n",
       "      <td>NaN</td>\n",
       "      <td>NaN</td>\n",
       "    </tr>\n",
       "    <tr>\n",
       "      <th>25%</th>\n",
       "      <td>NaN</td>\n",
       "      <td>2010.000000</td>\n",
       "      <td>7.000000</td>\n",
       "      <td>28.000000</td>\n",
       "      <td>NaN</td>\n",
       "      <td>41.746732</td>\n",
       "      <td>-87.770837</td>\n",
       "      <td>NaN</td>\n",
       "      <td>NaN</td>\n",
       "      <td>2.000000</td>\n",
       "      <td>NaN</td>\n",
       "      <td>NaN</td>\n",
       "    </tr>\n",
       "    <tr>\n",
       "      <th>50%</th>\n",
       "      <td>NaN</td>\n",
       "      <td>2013.000000</td>\n",
       "      <td>8.000000</td>\n",
       "      <td>31.000000</td>\n",
       "      <td>NaN</td>\n",
       "      <td>41.867599</td>\n",
       "      <td>-87.701388</td>\n",
       "      <td>NaN</td>\n",
       "      <td>NaN</td>\n",
       "      <td>4.000000</td>\n",
       "      <td>NaN</td>\n",
       "      <td>NaN</td>\n",
       "    </tr>\n",
       "    <tr>\n",
       "      <th>75%</th>\n",
       "      <td>NaN</td>\n",
       "      <td>2016.000000</td>\n",
       "      <td>8.000000</td>\n",
       "      <td>34.000000</td>\n",
       "      <td>NaN</td>\n",
       "      <td>41.964405</td>\n",
       "      <td>-87.643076</td>\n",
       "      <td>NaN</td>\n",
       "      <td>NaN</td>\n",
       "      <td>14.000000</td>\n",
       "      <td>NaN</td>\n",
       "      <td>NaN</td>\n",
       "    </tr>\n",
       "    <tr>\n",
       "      <th>max</th>\n",
       "      <td>NaN</td>\n",
       "      <td>2019.000000</td>\n",
       "      <td>10.000000</td>\n",
       "      <td>40.000000</td>\n",
       "      <td>NaN</td>\n",
       "      <td>42.017801</td>\n",
       "      <td>-87.531051</td>\n",
       "      <td>NaN</td>\n",
       "      <td>NaN</td>\n",
       "      <td>50.000000</td>\n",
       "      <td>NaN</td>\n",
       "      <td>NaN</td>\n",
       "    </tr>\n",
       "  </tbody>\n",
       "</table>\n",
       "</div>"
      ],
      "text/plain": [
       "                       Date          Year         Month          Week  \\\n",
       "count                 17913  17913.000000  17913.000000  17913.000000   \n",
       "unique                  298           NaN           NaN           NaN   \n",
       "top     2016-08-04 00:08:00           NaN           NaN           NaN   \n",
       "freq                    225           NaN           NaN           NaN   \n",
       "mean                    NaN   2012.859320      7.620052     30.971641   \n",
       "std                     NaN      3.734186      1.006069      4.373486   \n",
       "min                     NaN   2007.000000      5.000000     20.000000   \n",
       "25%                     NaN   2010.000000      7.000000     28.000000   \n",
       "50%                     NaN   2013.000000      8.000000     31.000000   \n",
       "75%                     NaN   2016.000000      8.000000     34.000000   \n",
       "max                     NaN   2019.000000     10.000000     40.000000   \n",
       "\n",
       "                Address Block           Lat           Lon   Trap Trap type  \\\n",
       "count                   17913  17913.000000  17913.000000  17913     17913   \n",
       "unique                    154           NaN           NaN    190         4   \n",
       "top     100XX W OHARE AIRPORT           NaN           NaN   T002    GRAVID   \n",
       "freq                     1565           NaN           NaN    406     17170   \n",
       "mean                      NaN     41.849345    -87.707935    NaN       NaN   \n",
       "std                       NaN      0.114904      0.092311    NaN       NaN   \n",
       "min                       NaN     41.644720    -87.880969    NaN       NaN   \n",
       "25%                       NaN     41.746732    -87.770837    NaN       NaN   \n",
       "50%                       NaN     41.867599    -87.701388    NaN       NaN   \n",
       "75%                       NaN     41.964405    -87.643076    NaN       NaN   \n",
       "max                       NaN     42.017801    -87.531051    NaN       NaN   \n",
       "\n",
       "        Mosquito number         Species WNV Present  \n",
       "count      17913.000000           17913       17913  \n",
       "unique              NaN               4           2  \n",
       "top                 NaN  CULEX RESTUANS    negative  \n",
       "freq                NaN           11450       14501  \n",
       "mean          10.626584             NaN         NaN  \n",
       "std           13.403571             NaN         NaN  \n",
       "min            1.000000             NaN         NaN  \n",
       "25%            2.000000             NaN         NaN  \n",
       "50%            4.000000             NaN         NaN  \n",
       "75%           14.000000             NaN         NaN  \n",
       "max           50.000000             NaN         NaN  "
      ]
     },
     "execution_count": 19,
     "metadata": {},
     "output_type": "execute_result"
    }
   ],
   "source": [
    "df.describe(include = \"all\")"
   ]
  },
  {
   "cell_type": "markdown",
   "id": "c2c50844",
   "metadata": {},
   "source": [
    "Looking at the categorical columns, we can see there are 4 unique trap types and 4 unique mosquito species as seen in the table above. There are also 298 unique dates over which data was collected, 154 unique addresses and 190 unique trap IDs. Since these columns possess high cardinality, we will only use trap types and species colums to create dummy variables later on."
   ]
  },
  {
   "cell_type": "markdown",
   "id": "7e975442",
   "metadata": {},
   "source": [
    "To determine whether there is a significant association between WNV Presence (positive/negative) and Mosquito Species, we can create a contingency table of both columns and perform  a chi-square test of independence:"
   ]
  },
  {
   "cell_type": "code",
   "execution_count": 20,
   "id": "96090476",
   "metadata": {},
   "outputs": [
    {
     "data": {
      "text/html": [
       "<div>\n",
       "<style scoped>\n",
       "    .dataframe tbody tr th:only-of-type {\n",
       "        vertical-align: middle;\n",
       "    }\n",
       "\n",
       "    .dataframe tbody tr th {\n",
       "        vertical-align: top;\n",
       "    }\n",
       "\n",
       "    .dataframe thead th {\n",
       "        text-align: right;\n",
       "    }\n",
       "</style>\n",
       "<table border=\"1\" class=\"dataframe\">\n",
       "  <thead>\n",
       "    <tr style=\"text-align: right;\">\n",
       "      <th>Species</th>\n",
       "      <th>CULEX PIPIENS</th>\n",
       "      <th>CULEX RESTUANS</th>\n",
       "      <th>CULEX SALINARIUS</th>\n",
       "      <th>CULEX TERRITANS</th>\n",
       "    </tr>\n",
       "    <tr>\n",
       "      <th>WNV Present</th>\n",
       "      <th></th>\n",
       "      <th></th>\n",
       "      <th></th>\n",
       "      <th></th>\n",
       "    </tr>\n",
       "  </thead>\n",
       "  <tbody>\n",
       "    <tr>\n",
       "      <th>negative</th>\n",
       "      <td>4074</td>\n",
       "      <td>9309</td>\n",
       "      <td>215</td>\n",
       "      <td>903</td>\n",
       "    </tr>\n",
       "    <tr>\n",
       "      <th>positive</th>\n",
       "      <td>1250</td>\n",
       "      <td>2141</td>\n",
       "      <td>7</td>\n",
       "      <td>14</td>\n",
       "    </tr>\n",
       "  </tbody>\n",
       "</table>\n",
       "</div>"
      ],
      "text/plain": [
       "Species      CULEX PIPIENS  CULEX RESTUANS  CULEX SALINARIUS  CULEX TERRITANS\n",
       "WNV Present                                                                  \n",
       "negative              4074            9309               215              903\n",
       "positive              1250            2141                 7               14"
      ]
     },
     "execution_count": 20,
     "metadata": {},
     "output_type": "execute_result"
    }
   ],
   "source": [
    "# chi square test of independence\n",
    "\n",
    "# H0: WNV Presence and mosquito species are independent\n",
    "# H1: WNV Presence and mosquito species are not independent\n",
    "\n",
    "species_contingency_table = pd.crosstab(df['WNV Present'],df['Species'])\n",
    "species_contingency_table"
   ]
  },
  {
   "cell_type": "code",
   "execution_count": 21,
   "id": "92923633",
   "metadata": {},
   "outputs": [],
   "source": [
    "# run chi square test on the table above\n",
    "chi2_stat, p_val, dof, expected = stats.chi2_contingency(species_contingency_table)"
   ]
  },
  {
   "cell_type": "code",
   "execution_count": 22,
   "id": "28fffd88",
   "metadata": {},
   "outputs": [
    {
     "data": {
      "text/plain": [
       "4.731085745792268e-62"
      ]
     },
     "execution_count": 22,
     "metadata": {},
     "output_type": "execute_result"
    }
   ],
   "source": [
    "p_val #p-value"
   ]
  },
  {
   "cell_type": "code",
   "execution_count": 23,
   "id": "7e99b480",
   "metadata": {},
   "outputs": [
    {
     "data": {
      "text/plain": [
       "array([[4309.9047619 , 9269.04761905,  179.71428571,  742.33333333],\n",
       "       [1014.0952381 , 2180.95238095,   42.28571429,  174.66666667]])"
      ]
     },
     "execution_count": 23,
     "metadata": {},
     "output_type": "execute_result"
    }
   ],
   "source": [
    "expected # expected values"
   ]
  },
  {
   "cell_type": "markdown",
   "id": "78ac1762",
   "metadata": {},
   "source": [
    "With a very low p-value of 4.73e-62 and a threshold of 0.05, we can safely reject the null hypothesis that WNV outcome is independent of the mosquito species and conclude that the species is statistically significant in predicting the WNV presence.\n",
    "\n",
    "We can also repeat the same hypothesis test for trap type:"
   ]
  },
  {
   "cell_type": "code",
   "execution_count": 24,
   "id": "ae4bbbeb",
   "metadata": {},
   "outputs": [
    {
     "data": {
      "text/html": [
       "<div>\n",
       "<style scoped>\n",
       "    .dataframe tbody tr th:only-of-type {\n",
       "        vertical-align: middle;\n",
       "    }\n",
       "\n",
       "    .dataframe tbody tr th {\n",
       "        vertical-align: top;\n",
       "    }\n",
       "\n",
       "    .dataframe thead th {\n",
       "        text-align: right;\n",
       "    }\n",
       "</style>\n",
       "<table border=\"1\" class=\"dataframe\">\n",
       "  <thead>\n",
       "    <tr style=\"text-align: right;\">\n",
       "      <th>Trap type</th>\n",
       "      <th>CDC</th>\n",
       "      <th>GRAVID</th>\n",
       "      <th>OVI</th>\n",
       "      <th>SENTINEL</th>\n",
       "    </tr>\n",
       "    <tr>\n",
       "      <th>WNV Present</th>\n",
       "      <th></th>\n",
       "      <th></th>\n",
       "      <th></th>\n",
       "      <th></th>\n",
       "    </tr>\n",
       "  </thead>\n",
       "  <tbody>\n",
       "    <tr>\n",
       "      <th>negative</th>\n",
       "      <td>423</td>\n",
       "      <td>13951</td>\n",
       "      <td>1</td>\n",
       "      <td>126</td>\n",
       "    </tr>\n",
       "    <tr>\n",
       "      <th>positive</th>\n",
       "      <td>110</td>\n",
       "      <td>3219</td>\n",
       "      <td>0</td>\n",
       "      <td>83</td>\n",
       "    </tr>\n",
       "  </tbody>\n",
       "</table>\n",
       "</div>"
      ],
      "text/plain": [
       "Trap type    CDC  GRAVID  OVI  SENTINEL\n",
       "WNV Present                            \n",
       "negative     423   13951    1       126\n",
       "positive     110    3219    0        83"
      ]
     },
     "execution_count": 24,
     "metadata": {},
     "output_type": "execute_result"
    }
   ],
   "source": [
    "# chi square test of independence\n",
    "\n",
    "# H0: WNV Presence and trap type are independent\n",
    "# H1: WNV Presence and trap type are not independent\n",
    "\n",
    "traps_contingency_table = pd.crosstab(df['WNV Present'],df['Trap type'])\n",
    "traps_contingency_table"
   ]
  },
  {
   "cell_type": "code",
   "execution_count": 25,
   "id": "d920ef78",
   "metadata": {},
   "outputs": [
    {
     "data": {
      "text/plain": [
       "5.894302806422253e-13"
      ]
     },
     "execution_count": 25,
     "metadata": {},
     "output_type": "execute_result"
    }
   ],
   "source": [
    "# run chi square test on the table above\n",
    "chi2_stat, p_val, dof, expected = stats.chi2_contingency(traps_contingency_table)\n",
    "\n",
    "p_val #p-value"
   ]
  },
  {
   "cell_type": "markdown",
   "id": "e41e2ceb",
   "metadata": {},
   "source": [
    "Similarly, we got a very low p-value 5.89e-13 that is below the threshold of 0.05. At this level, we can safely reject the null hypothesis that WNV outcome is independent of the trap type and also and conclude that the trap type is statistically significant in predicting the WNV presence."
   ]
  },
  {
   "cell_type": "markdown",
   "id": "c86a9788",
   "metadata": {},
   "source": [
    "To check if there is a statistically significant difference between the numerical columns with respect to the WNV Present column, we can perform two sample unpaired t-test:"
   ]
  },
  {
   "cell_type": "code",
   "execution_count": 26,
   "id": "276eba0b",
   "metadata": {},
   "outputs": [
    {
     "data": {
      "image/png": "[encoded data removed]",
      "text/plain": [
       "<Figure size 432x288 with 1 Axes>"
      ]
     },
     "metadata": {
      "needs_background": "light"
     },
     "output_type": "display_data"
    },
    {
     "data": {
      "image/png": "[encoded data removed]",
      "text/plain": [
       "<Figure size 432x288 with 1 Axes>"
      ]
     },
     "metadata": {
      "needs_background": "light"
     },
     "output_type": "display_data"
    },
    {
     "data": {
      "image/png": "[encoded data removed]",
      "text/plain": [
       "<Figure size 432x288 with 1 Axes>"
      ]
     },
     "metadata": {
      "needs_background": "light"
     },
     "output_type": "display_data"
    },
    {
     "data": {
      "image/png": "[encoded data removed]",
      "text/plain": [
       "<Figure size 432x288 with 1 Axes>"
      ]
     },
     "metadata": {
      "needs_background": "light"
     },
     "output_type": "display_data"
    },
    {
     "data": {
      "image/png": "[encoded data removed]",
      "text/plain": [
       "<Figure size 432x288 with 1 Axes>"
      ]
     },
     "metadata": {
      "needs_background": "light"
     },
     "output_type": "display_data"
    },
    {
     "data": {
      "image/png": "[encoded data removed]",
      "text/plain": [
       "<Figure size 432x288 with 1 Axes>"
      ]
     },
     "metadata": {
      "needs_background": "light"
     },
     "output_type": "display_data"
    }
   ],
   "source": [
    "for column in num_columns:\n",
    "    \n",
    "    wnv_positive = df.loc[df['WNV Present'] == 'positive',column]\n",
    "    wnv_negative = df.loc[df['WNV Present'] == 'negative',column]\n",
    "    \n",
    "    p_value = stats.ttest_ind(wnv_positive, wnv_negative)[1]\n",
    "    \n",
    "    sns.boxplot(x = 'WNV Present',y = column, data = df)\n",
    "    plt.title(f\"{column} by WNV status\\nt-test p-value:{round(p_value,4)}\")\n",
    "    plt.show()\n",
    "    "
   ]
  },
  {
   "cell_type": "markdown",
   "id": "8f343458",
   "metadata": {},
   "source": [
    "Some things to take away from the charts above:\n",
    "\n",
    "- p-value is less than 0.05 for each numerical column\n",
    "- Hence, we can reject the null hypothesis and conclude that there is a statistically significant difference in Year, Month, Week & Mosquito Number for WNV positive & negative cases."
   ]
  },
  {
   "cell_type": "markdown",
   "id": "3ee04a3f",
   "metadata": {},
   "source": [
    "## Statistical Analysis - Linear Regression"
   ]
  },
  {
   "cell_type": "code",
   "execution_count": 27,
   "id": "5926799b",
   "metadata": {},
   "outputs": [
    {
     "data": {
      "image/png": "[encoded data removed]",
      "text/plain": [
       "<Figure size 720x576 with 6 Axes>"
      ]
     },
     "metadata": {
      "needs_background": "light"
     },
     "output_type": "display_data"
    }
   ],
   "source": [
    "# using scatter plots to visualize the relationship between Mosquito number and our independent variables\n",
    "\n",
    "plt.subplots(3,2,figsize=(10,8))\n",
    "plot_num=1\n",
    "for column in num_columns:\n",
    "    plt.subplot(3,2,plot_num)\n",
    "    sns.scatterplot(x = df[column], y = df['Mosquito number'], data = df)\n",
    "    plt.ylabel('Mosquito number')\n",
    "    plt.xlabel(column)\n",
    "    plot_num += 1\n",
    "    \n",
    "plt.tight_layout()\n",
    "plt.show()"
   ]
  },
  {
   "cell_type": "code",
   "execution_count": 28,
   "id": "ff5c5362",
   "metadata": {},
   "outputs": [
    {
     "data": {
      "image/png": "[encoded data removed]",
      "text/plain": [
       "<Figure size 360x360 with 1 Axes>"
      ]
     },
     "metadata": {
      "needs_background": "light"
     },
     "output_type": "display_data"
    },
    {
     "data": {
      "image/png": "[encoded data removed]",
      "text/plain": [
       "<Figure size 360x360 with 1 Axes>"
      ]
     },
     "metadata": {
      "needs_background": "light"
     },
     "output_type": "display_data"
    },
    {
     "data": {
      "image/png": "[encoded data removed]",
      "text/plain": [
       "<Figure size 360x360 with 1 Axes>"
      ]
     },
     "metadata": {
      "needs_background": "light"
     },
     "output_type": "display_data"
    }
   ],
   "source": [
    "# using Seabon LM plots to visualize the relationship between Mosquito number and date columns\n",
    "for column in num_columns[:-3]:\n",
    "    temp = pd.DataFrame(df.groupby(column)['Mosquito number'].mean())\n",
    "    temp.reset_index(inplace = True)\n",
    "    sns.lmplot(x = column, y = \"Mosquito number\", data=temp)\n",
    "    plt.title('Average Mosquito Number by ' + column)\n",
    "    plt.ylabel('Mosquito number')\n",
    "    plt.xlabel(column)\n",
    "    \n",
    "plt.tight_layout()\n",
    "plt.show()"
   ]
  },
  {
   "cell_type": "markdown",
   "id": "20463113",
   "metadata": {},
   "source": [
    "From the plots above, we can see that the relationship between mosquito and date is not best represented by a linear model. We will continue to analyze the data further, starting by investigating the correlation between mosquito number and the numerical columns:"
   ]
  },
  {
   "cell_type": "code",
   "execution_count": 29,
   "id": "19be5d52",
   "metadata": {},
   "outputs": [
    {
     "data": {
      "text/html": [
       "<div>\n",
       "<style scoped>\n",
       "    .dataframe tbody tr th:only-of-type {\n",
       "        vertical-align: middle;\n",
       "    }\n",
       "\n",
       "    .dataframe tbody tr th {\n",
       "        vertical-align: top;\n",
       "    }\n",
       "\n",
       "    .dataframe thead th {\n",
       "        text-align: right;\n",
       "    }\n",
       "</style>\n",
       "<table border=\"1\" class=\"dataframe\">\n",
       "  <thead>\n",
       "    <tr style=\"text-align: right;\">\n",
       "      <th></th>\n",
       "      <th>Year</th>\n",
       "      <th>Month</th>\n",
       "      <th>Week</th>\n",
       "      <th>Lat</th>\n",
       "      <th>Lon</th>\n",
       "      <th>Mosquito number</th>\n",
       "    </tr>\n",
       "  </thead>\n",
       "  <tbody>\n",
       "    <tr>\n",
       "      <th>Year</th>\n",
       "      <td>1.000000</td>\n",
       "      <td>-0.102678</td>\n",
       "      <td>-0.024027</td>\n",
       "      <td>0.083014</td>\n",
       "      <td>-0.075331</td>\n",
       "      <td>0.123473</td>\n",
       "    </tr>\n",
       "    <tr>\n",
       "      <th>Month</th>\n",
       "      <td>-0.102678</td>\n",
       "      <td>1.000000</td>\n",
       "      <td>0.949712</td>\n",
       "      <td>-0.017677</td>\n",
       "      <td>0.021638</td>\n",
       "      <td>-0.045054</td>\n",
       "    </tr>\n",
       "    <tr>\n",
       "      <th>Week</th>\n",
       "      <td>-0.024027</td>\n",
       "      <td>0.949712</td>\n",
       "      <td>1.000000</td>\n",
       "      <td>-0.010050</td>\n",
       "      <td>0.015161</td>\n",
       "      <td>-0.037638</td>\n",
       "    </tr>\n",
       "    <tr>\n",
       "      <th>Lat</th>\n",
       "      <td>0.083014</td>\n",
       "      <td>-0.017677</td>\n",
       "      <td>-0.010050</td>\n",
       "      <td>1.000000</td>\n",
       "      <td>-0.739716</td>\n",
       "      <td>0.083709</td>\n",
       "    </tr>\n",
       "    <tr>\n",
       "      <th>Lon</th>\n",
       "      <td>-0.075331</td>\n",
       "      <td>0.021638</td>\n",
       "      <td>0.015161</td>\n",
       "      <td>-0.739716</td>\n",
       "      <td>1.000000</td>\n",
       "      <td>-0.131455</td>\n",
       "    </tr>\n",
       "    <tr>\n",
       "      <th>Mosquito number</th>\n",
       "      <td>0.123473</td>\n",
       "      <td>-0.045054</td>\n",
       "      <td>-0.037638</td>\n",
       "      <td>0.083709</td>\n",
       "      <td>-0.131455</td>\n",
       "      <td>1.000000</td>\n",
       "    </tr>\n",
       "  </tbody>\n",
       "</table>\n",
       "</div>"
      ],
      "text/plain": [
       "                     Year     Month      Week       Lat       Lon  \\\n",
       "Year             1.000000 -0.102678 -0.024027  0.083014 -0.075331   \n",
       "Month           -0.102678  1.000000  0.949712 -0.017677  0.021638   \n",
       "Week            -0.024027  0.949712  1.000000 -0.010050  0.015161   \n",
       "Lat              0.083014 -0.017677 -0.010050  1.000000 -0.739716   \n",
       "Lon             -0.075331  0.021638  0.015161 -0.739716  1.000000   \n",
       "Mosquito number  0.123473 -0.045054 -0.037638  0.083709 -0.131455   \n",
       "\n",
       "                 Mosquito number  \n",
       "Year                    0.123473  \n",
       "Month                  -0.045054  \n",
       "Week                   -0.037638  \n",
       "Lat                     0.083709  \n",
       "Lon                    -0.131455  \n",
       "Mosquito number         1.000000  "
      ]
     },
     "execution_count": 29,
     "metadata": {},
     "output_type": "execute_result"
    }
   ],
   "source": [
    "corr_matrix = df.corr()\n",
    "corr_matrix"
   ]
  },
  {
   "cell_type": "code",
   "execution_count": 30,
   "id": "8e7960d7",
   "metadata": {},
   "outputs": [
    {
     "data": {
      "image/png": "[encoded data removed]",
      "text/plain": [
       "<Figure size 720x576 with 2 Axes>"
      ]
     },
     "metadata": {},
     "output_type": "display_data"
    }
   ],
   "source": [
    "# creating a heatmap of the correlation matrix above using a color scheme \n",
    "\n",
    "sns.set(style=\"white\")\n",
    "mask = np.triu(np.ones_like(corr_matrix, dtype=bool))\n",
    "cmap = sns.diverging_palette(230, 20, as_cmap=True)\n",
    "plt.figure(figsize=(10, 8))\n",
    "sns.heatmap(corr_matrix, cmap=cmap, annot=True, fmt=\".2f\", linewidths=.5, mask=mask)\n",
    "plt.show()"
   ]
  },
  {
   "cell_type": "markdown",
   "id": "bb7cb793",
   "metadata": {},
   "source": [
    "From the correlation matrix above, we can see that the strongest correlation between our numerical variables exists between Month & Week columns. This is expected since both columns are essentially representing the same information. We will drop the Week column from the dataset moving forward since it is redundant.\n",
    "\n",
    "There is a strong negative correlation between the Longitude and Latitude columns but this is also expected since these columns represent geographical locations instead of float values. We will not consider these columns when trying to develop our linear regression model.\n",
    "\n",
    "We can see from the heatmap that there is no strong linear correlations between mosquito number and other numerical columns in our dataset as the correlation coefficients range from -0.13 to 0.12."
   ]
  },
  {
   "cell_type": "markdown",
   "id": "eaf46f33",
   "metadata": {},
   "source": [
    "Using a Pearson test, we can check if the population correlation between independent & dependent variables is equal to 0 or not.\n",
    "\n",
    "Our hypothesis test is shown below:\n",
    "\n",
    "$H_0$: the two variables are not correlated, $\\rho=0$.\n",
    "\n",
    "$H_1$: the two variables are correlated, $\\rho\\neq0$."
   ]
  },
  {
   "cell_type": "code",
   "execution_count": 31,
   "id": "1745890e",
   "metadata": {},
   "outputs": [
    {
     "data": {
      "text/plain": [
       "(0.12347282411486386, 8.526504904172238e-62)"
      ]
     },
     "execution_count": 31,
     "metadata": {},
     "output_type": "execute_result"
    }
   ],
   "source": [
    "stats.pearsonr(df[\"Year\"], df[\"Mosquito number\"])"
   ]
  },
  {
   "cell_type": "code",
   "execution_count": 32,
   "id": "bcb985cf",
   "metadata": {},
   "outputs": [
    {
     "data": {
      "text/plain": [
       "(-0.04505417584333572, 1.6127372263671034e-09)"
      ]
     },
     "execution_count": 32,
     "metadata": {},
     "output_type": "execute_result"
    }
   ],
   "source": [
    "stats.pearsonr(df[\"Month\"], df[\"Mosquito number\"])"
   ]
  },
  {
   "cell_type": "markdown",
   "id": "9e7aebcc",
   "metadata": {},
   "source": [
    "Similarly, the p-value of the correlation coefficients between Year/Month and Mosquito number is significantly lower than the threshold of 0.05. Therefore, we can safely reject the null hypothesis and conclude that there is a statistically significant correlation between Year/Month and mosquito number in the population dataset."
   ]
  },
  {
   "cell_type": "code",
   "execution_count": 33,
   "id": "f3eb1795",
   "metadata": {},
   "outputs": [
    {
     "data": {
      "image/png": "[encoded data removed]",
      "text/plain": [
       "<Figure size 432x288 with 1 Axes>"
      ]
     },
     "metadata": {},
     "output_type": "display_data"
    }
   ],
   "source": [
    "# Check for multicollinearity between our independent variables\n",
    "plt.figure()\n",
    "plt.scatter(df['Year'], df['Month'])\n",
    "plt.xlabel('Year')\n",
    "plt.ylabel('Month')\n",
    "plt.show()"
   ]
  },
  {
   "cell_type": "code",
   "execution_count": 34,
   "id": "799e0f3a",
   "metadata": {},
   "outputs": [
    {
     "data": {
      "text/plain": [
       "(-0.10267786198262542, 3.465966398257226e-43)"
      ]
     },
     "execution_count": 34,
     "metadata": {},
     "output_type": "execute_result"
    }
   ],
   "source": [
    "stats.pearsonr(df[\"Year\"], df[\"Month\"])"
   ]
  },
  {
   "cell_type": "markdown",
   "id": "22205e57",
   "metadata": {},
   "source": [
    "With a low p-value of 3.46e-43, we can reject the null hypothesis and conclude that there is a significant correlation between Year and Month in the population dataset. However, correlation coefficient of -0.1 is quite low which suggests a weak negative linear correlation exists between both variables."
   ]
  },
  {
   "cell_type": "markdown",
   "id": "84b086d7",
   "metadata": {},
   "source": [
    "Next, we can split our data into dependent and independent variables in order to perform a linear regression:"
   ]
  },
  {
   "cell_type": "code",
   "execution_count": 35,
   "id": "91c9325f",
   "metadata": {},
   "outputs": [
    {
     "data": {
      "text/html": [
       "<div>\n",
       "<style scoped>\n",
       "    .dataframe tbody tr th:only-of-type {\n",
       "        vertical-align: middle;\n",
       "    }\n",
       "\n",
       "    .dataframe tbody tr th {\n",
       "        vertical-align: top;\n",
       "    }\n",
       "\n",
       "    .dataframe thead th {\n",
       "        text-align: right;\n",
       "    }\n",
       "</style>\n",
       "<table border=\"1\" class=\"dataframe\">\n",
       "  <thead>\n",
       "    <tr style=\"text-align: right;\">\n",
       "      <th></th>\n",
       "      <th>Year</th>\n",
       "      <th>Month</th>\n",
       "    </tr>\n",
       "  </thead>\n",
       "  <tbody>\n",
       "    <tr>\n",
       "      <th>0</th>\n",
       "      <td>2019</td>\n",
       "      <td>9</td>\n",
       "    </tr>\n",
       "    <tr>\n",
       "      <th>1</th>\n",
       "      <td>2019</td>\n",
       "      <td>9</td>\n",
       "    </tr>\n",
       "    <tr>\n",
       "      <th>2</th>\n",
       "      <td>2019</td>\n",
       "      <td>9</td>\n",
       "    </tr>\n",
       "    <tr>\n",
       "      <th>3</th>\n",
       "      <td>2019</td>\n",
       "      <td>9</td>\n",
       "    </tr>\n",
       "    <tr>\n",
       "      <th>4</th>\n",
       "      <td>2019</td>\n",
       "      <td>9</td>\n",
       "    </tr>\n",
       "    <tr>\n",
       "      <th>...</th>\n",
       "      <td>...</td>\n",
       "      <td>...</td>\n",
       "    </tr>\n",
       "    <tr>\n",
       "      <th>18489</th>\n",
       "      <td>2013</td>\n",
       "      <td>8</td>\n",
       "    </tr>\n",
       "    <tr>\n",
       "      <th>18490</th>\n",
       "      <td>2016</td>\n",
       "      <td>9</td>\n",
       "    </tr>\n",
       "    <tr>\n",
       "      <th>18491</th>\n",
       "      <td>2007</td>\n",
       "      <td>8</td>\n",
       "    </tr>\n",
       "    <tr>\n",
       "      <th>18492</th>\n",
       "      <td>2016</td>\n",
       "      <td>7</td>\n",
       "    </tr>\n",
       "    <tr>\n",
       "      <th>18493</th>\n",
       "      <td>2017</td>\n",
       "      <td>8</td>\n",
       "    </tr>\n",
       "  </tbody>\n",
       "</table>\n",
       "<p>17913 rows × 2 columns</p>\n",
       "</div>"
      ],
      "text/plain": [
       "       Year  Month\n",
       "0      2019      9\n",
       "1      2019      9\n",
       "2      2019      9\n",
       "3      2019      9\n",
       "4      2019      9\n",
       "...     ...    ...\n",
       "18489  2013      8\n",
       "18490  2016      9\n",
       "18491  2007      8\n",
       "18492  2016      7\n",
       "18493  2017      8\n",
       "\n",
       "[17913 rows x 2 columns]"
      ]
     },
     "execution_count": 35,
     "metadata": {},
     "output_type": "execute_result"
    }
   ],
   "source": [
    "# independent numerical variables excluding 'Week', 'Lat'/'Lon' & 'Mosquito number'\n",
    "X = df[df.select_dtypes('number').columns[:2]]\n",
    "X "
   ]
  },
  {
   "cell_type": "code",
   "execution_count": 36,
   "id": "304e8489",
   "metadata": {},
   "outputs": [],
   "source": [
    "y = df['Mosquito number'] # dependent variable"
   ]
  },
  {
   "cell_type": "code",
   "execution_count": 37,
   "id": "539ef3d4",
   "metadata": {},
   "outputs": [
    {
     "name": "stderr",
     "output_type": "stream",
     "text": [
      "/Users/fejiroobor/anaconda3/lib/python3.9/site-packages/statsmodels/tsa/tsatools.py:142: FutureWarning: In a future version of pandas all arguments of concat except for the argument 'objs' will be keyword-only\n",
      "  x = pd.concat(x[::order], 1)\n"
     ]
    },
    {
     "data": {
      "text/html": [
       "<div>\n",
       "<style scoped>\n",
       "    .dataframe tbody tr th:only-of-type {\n",
       "        vertical-align: middle;\n",
       "    }\n",
       "\n",
       "    .dataframe tbody tr th {\n",
       "        vertical-align: top;\n",
       "    }\n",
       "\n",
       "    .dataframe thead th {\n",
       "        text-align: right;\n",
       "    }\n",
       "</style>\n",
       "<table border=\"1\" class=\"dataframe\">\n",
       "  <thead>\n",
       "    <tr style=\"text-align: right;\">\n",
       "      <th></th>\n",
       "      <th>const</th>\n",
       "      <th>Year</th>\n",
       "      <th>Month</th>\n",
       "    </tr>\n",
       "  </thead>\n",
       "  <tbody>\n",
       "    <tr>\n",
       "      <th>0</th>\n",
       "      <td>1.0</td>\n",
       "      <td>2019</td>\n",
       "      <td>9</td>\n",
       "    </tr>\n",
       "    <tr>\n",
       "      <th>1</th>\n",
       "      <td>1.0</td>\n",
       "      <td>2019</td>\n",
       "      <td>9</td>\n",
       "    </tr>\n",
       "    <tr>\n",
       "      <th>2</th>\n",
       "      <td>1.0</td>\n",
       "      <td>2019</td>\n",
       "      <td>9</td>\n",
       "    </tr>\n",
       "    <tr>\n",
       "      <th>3</th>\n",
       "      <td>1.0</td>\n",
       "      <td>2019</td>\n",
       "      <td>9</td>\n",
       "    </tr>\n",
       "    <tr>\n",
       "      <th>4</th>\n",
       "      <td>1.0</td>\n",
       "      <td>2019</td>\n",
       "      <td>9</td>\n",
       "    </tr>\n",
       "    <tr>\n",
       "      <th>...</th>\n",
       "      <td>...</td>\n",
       "      <td>...</td>\n",
       "      <td>...</td>\n",
       "    </tr>\n",
       "    <tr>\n",
       "      <th>18489</th>\n",
       "      <td>1.0</td>\n",
       "      <td>2013</td>\n",
       "      <td>8</td>\n",
       "    </tr>\n",
       "    <tr>\n",
       "      <th>18490</th>\n",
       "      <td>1.0</td>\n",
       "      <td>2016</td>\n",
       "      <td>9</td>\n",
       "    </tr>\n",
       "    <tr>\n",
       "      <th>18491</th>\n",
       "      <td>1.0</td>\n",
       "      <td>2007</td>\n",
       "      <td>8</td>\n",
       "    </tr>\n",
       "    <tr>\n",
       "      <th>18492</th>\n",
       "      <td>1.0</td>\n",
       "      <td>2016</td>\n",
       "      <td>7</td>\n",
       "    </tr>\n",
       "    <tr>\n",
       "      <th>18493</th>\n",
       "      <td>1.0</td>\n",
       "      <td>2017</td>\n",
       "      <td>8</td>\n",
       "    </tr>\n",
       "  </tbody>\n",
       "</table>\n",
       "<p>17913 rows × 3 columns</p>\n",
       "</div>"
      ],
      "text/plain": [
       "       const  Year  Month\n",
       "0        1.0  2019      9\n",
       "1        1.0  2019      9\n",
       "2        1.0  2019      9\n",
       "3        1.0  2019      9\n",
       "4        1.0  2019      9\n",
       "...      ...   ...    ...\n",
       "18489    1.0  2013      8\n",
       "18490    1.0  2016      9\n",
       "18491    1.0  2007      8\n",
       "18492    1.0  2016      7\n",
       "18493    1.0  2017      8\n",
       "\n",
       "[17913 rows x 3 columns]"
      ]
     },
     "execution_count": 37,
     "metadata": {},
     "output_type": "execute_result"
    }
   ],
   "source": [
    "X_withconstant = sm.add_constant(X) # adding constant\n",
    "X_withconstant"
   ]
  },
  {
   "cell_type": "code",
   "execution_count": 38,
   "id": "2eb285bd",
   "metadata": {},
   "outputs": [
    {
     "data": {
      "text/html": [
       "<table class=\"simpletable\">\n",
       "<caption>OLS Regression Results</caption>\n",
       "<tr>\n",
       "  <th>Dep. Variable:</th>     <td>Mosquito number</td> <th>  R-squared:         </th> <td>   0.016</td> \n",
       "</tr>\n",
       "<tr>\n",
       "  <th>Model:</th>                   <td>OLS</td>       <th>  Adj. R-squared:    </th> <td>   0.016</td> \n",
       "</tr>\n",
       "<tr>\n",
       "  <th>Method:</th>             <td>Least Squares</td>  <th>  F-statistic:       </th> <td>   148.4</td> \n",
       "</tr>\n",
       "<tr>\n",
       "  <th>Date:</th>             <td>Sun, 16 Apr 2023</td> <th>  Prob (F-statistic):</th> <td>1.16e-64</td> \n",
       "</tr>\n",
       "<tr>\n",
       "  <th>Time:</th>                 <td>23:51:42</td>     <th>  Log-Likelihood:    </th> <td> -71763.</td> \n",
       "</tr>\n",
       "<tr>\n",
       "  <th>No. Observations:</th>      <td> 17913</td>      <th>  AIC:               </th> <td>1.435e+05</td>\n",
       "</tr>\n",
       "<tr>\n",
       "  <th>Df Residuals:</th>          <td> 17910</td>      <th>  BIC:               </th> <td>1.436e+05</td>\n",
       "</tr>\n",
       "<tr>\n",
       "  <th>Df Model:</th>              <td>     2</td>      <th>                     </th>     <td> </td>    \n",
       "</tr>\n",
       "<tr>\n",
       "  <th>Covariance Type:</th>      <td>nonrobust</td>    <th>                     </th>     <td> </td>    \n",
       "</tr>\n",
       "</table>\n",
       "<table class=\"simpletable\">\n",
       "<tr>\n",
       "    <td></td>       <th>coef</th>     <th>std err</th>      <th>t</th>      <th>P>|t|</th>  <th>[0.025</th>    <th>0.975]</th>  \n",
       "</tr>\n",
       "<tr>\n",
       "  <th>const</th> <td> -853.8689</td> <td>   53.913</td> <td>  -15.838</td> <td> 0.000</td> <td> -959.543</td> <td> -748.195</td>\n",
       "</tr>\n",
       "<tr>\n",
       "  <th>Year</th>  <td>    0.4311</td> <td>    0.027</td> <td>   16.122</td> <td> 0.000</td> <td>    0.379</td> <td>    0.484</td>\n",
       "</tr>\n",
       "<tr>\n",
       "  <th>Month</th> <td>   -0.4359</td> <td>    0.099</td> <td>   -4.392</td> <td> 0.000</td> <td>   -0.630</td> <td>   -0.241</td>\n",
       "</tr>\n",
       "</table>\n",
       "<table class=\"simpletable\">\n",
       "<tr>\n",
       "  <th>Omnibus:</th>       <td>5166.500</td> <th>  Durbin-Watson:     </th> <td>   1.508</td> \n",
       "</tr>\n",
       "<tr>\n",
       "  <th>Prob(Omnibus):</th>  <td> 0.000</td>  <th>  Jarque-Bera (JB):  </th> <td>11445.484</td>\n",
       "</tr>\n",
       "<tr>\n",
       "  <th>Skew:</th>           <td> 1.699</td>  <th>  Prob(JB):          </th> <td>    0.00</td> \n",
       "</tr>\n",
       "<tr>\n",
       "  <th>Kurtosis:</th>       <td> 4.947</td>  <th>  Cond. No.          </th> <td>1.09e+06</td> \n",
       "</tr>\n",
       "</table><br/><br/>Notes:<br/>[1] Standard Errors assume that the covariance matrix of the errors is correctly specified.<br/>[2] The condition number is large, 1.09e+06. This might indicate that there are<br/>strong multicollinearity or other numerical problems."
      ],
      "text/plain": [
       "<class 'statsmodels.iolib.summary.Summary'>\n",
       "\"\"\"\n",
       "                            OLS Regression Results                            \n",
       "==============================================================================\n",
       "Dep. Variable:        Mosquito number   R-squared:                       0.016\n",
       "Model:                            OLS   Adj. R-squared:                  0.016\n",
       "Method:                 Least Squares   F-statistic:                     148.4\n",
       "Date:                Sun, 16 Apr 2023   Prob (F-statistic):           1.16e-64\n",
       "Time:                        23:51:42   Log-Likelihood:                -71763.\n",
       "No. Observations:               17913   AIC:                         1.435e+05\n",
       "Df Residuals:                   17910   BIC:                         1.436e+05\n",
       "Df Model:                           2                                         \n",
       "Covariance Type:            nonrobust                                         \n",
       "==============================================================================\n",
       "                 coef    std err          t      P>|t|      [0.025      0.975]\n",
       "------------------------------------------------------------------------------\n",
       "const       -853.8689     53.913    -15.838      0.000    -959.543    -748.195\n",
       "Year           0.4311      0.027     16.122      0.000       0.379       0.484\n",
       "Month         -0.4359      0.099     -4.392      0.000      -0.630      -0.241\n",
       "==============================================================================\n",
       "Omnibus:                     5166.500   Durbin-Watson:                   1.508\n",
       "Prob(Omnibus):                  0.000   Jarque-Bera (JB):            11445.484\n",
       "Skew:                           1.699   Prob(JB):                         0.00\n",
       "Kurtosis:                       4.947   Cond. No.                     1.09e+06\n",
       "==============================================================================\n",
       "\n",
       "Notes:\n",
       "[1] Standard Errors assume that the covariance matrix of the errors is correctly specified.\n",
       "[2] The condition number is large, 1.09e+06. This might indicate that there are\n",
       "strong multicollinearity or other numerical problems.\n",
       "\"\"\""
      ]
     },
     "execution_count": 38,
     "metadata": {},
     "output_type": "execute_result"
    }
   ],
   "source": [
    "# 1. Instantiate Model\n",
    "myregression = sm.OLS(y, X_withconstant)\n",
    "\n",
    "# 2. Fit Model\n",
    "myregression_results = myregression.fit()\n",
    "\n",
    "# Model summary\n",
    "myregression_results.summary()"
   ]
  },
  {
   "cell_type": "markdown",
   "id": "c0c98dc7",
   "metadata": {},
   "source": [
    "From the result above, we can see that the p-value for Year and Month are below 0.05 which indicate that both are statistically significant in predicting mosquito number. However, the R-squared of our linear model is very low (0.016) which shows that it is not an accurate model. This is expected since the trend of mosquito number over time was not linear as shown in the seaborn lm plots above.\n",
    "\n",
    "There is multicolinearity problems with our linear regression model due to the weak correlation between Year & Mosquito number columns. We can see this at play if we only look at 'Year' vs 'Mosquito number' as shown below\n",
    ":"
   ]
  },
  {
   "cell_type": "code",
   "execution_count": 39,
   "id": "39496c12",
   "metadata": {},
   "outputs": [
    {
     "name": "stderr",
     "output_type": "stream",
     "text": [
      "/Users/fejiroobor/anaconda3/lib/python3.9/site-packages/statsmodels/tsa/tsatools.py:142: FutureWarning: In a future version of pandas all arguments of concat except for the argument 'objs' will be keyword-only\n",
      "  x = pd.concat(x[::order], 1)\n"
     ]
    },
    {
     "data": {
      "text/html": [
       "<table class=\"simpletable\">\n",
       "<caption>OLS Regression Results</caption>\n",
       "<tr>\n",
       "  <th>Dep. Variable:</th>     <td>Mosquito number</td> <th>  R-squared:         </th> <td>   0.015</td> \n",
       "</tr>\n",
       "<tr>\n",
       "  <th>Model:</th>                   <td>OLS</td>       <th>  Adj. R-squared:    </th> <td>   0.015</td> \n",
       "</tr>\n",
       "<tr>\n",
       "  <th>Method:</th>             <td>Least Squares</td>  <th>  F-statistic:       </th> <td>   277.3</td> \n",
       "</tr>\n",
       "<tr>\n",
       "  <th>Date:</th>             <td>Sun, 16 Apr 2023</td> <th>  Prob (F-statistic):</th> <td>8.53e-62</td> \n",
       "</tr>\n",
       "<tr>\n",
       "  <th>Time:</th>                 <td>23:51:42</td>     <th>  Log-Likelihood:    </th> <td> -71773.</td> \n",
       "</tr>\n",
       "<tr>\n",
       "  <th>No. Observations:</th>      <td> 17913</td>      <th>  AIC:               </th> <td>1.435e+05</td>\n",
       "</tr>\n",
       "<tr>\n",
       "  <th>Df Residuals:</th>          <td> 17911</td>      <th>  BIC:               </th> <td>1.436e+05</td>\n",
       "</tr>\n",
       "<tr>\n",
       "  <th>Df Model:</th>              <td>     1</td>      <th>                     </th>     <td> </td>    \n",
       "</tr>\n",
       "<tr>\n",
       "  <th>Covariance Type:</th>      <td>nonrobust</td>    <th>                     </th>     <td> </td>    \n",
       "</tr>\n",
       "</table>\n",
       "<table class=\"simpletable\">\n",
       "<tr>\n",
       "    <td></td>       <th>coef</th>     <th>std err</th>      <th>t</th>      <th>P>|t|</th>  <th>[0.025</th>    <th>0.975]</th>  \n",
       "</tr>\n",
       "<tr>\n",
       "  <th>const</th> <td> -881.4649</td> <td>   53.573</td> <td>  -16.454</td> <td> 0.000</td> <td> -986.472</td> <td> -776.457</td>\n",
       "</tr>\n",
       "<tr>\n",
       "  <th>Year</th>  <td>    0.4432</td> <td>    0.027</td> <td>   16.652</td> <td> 0.000</td> <td>    0.391</td> <td>    0.495</td>\n",
       "</tr>\n",
       "</table>\n",
       "<table class=\"simpletable\">\n",
       "<tr>\n",
       "  <th>Omnibus:</th>       <td>5172.291</td> <th>  Durbin-Watson:     </th> <td>   1.509</td> \n",
       "</tr>\n",
       "<tr>\n",
       "  <th>Prob(Omnibus):</th>  <td> 0.000</td>  <th>  Jarque-Bera (JB):  </th> <td>11467.243</td>\n",
       "</tr>\n",
       "<tr>\n",
       "  <th>Skew:</th>           <td> 1.700</td>  <th>  Prob(JB):          </th> <td>    0.00</td> \n",
       "</tr>\n",
       "<tr>\n",
       "  <th>Kurtosis:</th>       <td> 4.949</td>  <th>  Cond. No.          </th> <td>1.09e+06</td> \n",
       "</tr>\n",
       "</table><br/><br/>Notes:<br/>[1] Standard Errors assume that the covariance matrix of the errors is correctly specified.<br/>[2] The condition number is large, 1.09e+06. This might indicate that there are<br/>strong multicollinearity or other numerical problems."
      ],
      "text/plain": [
       "<class 'statsmodels.iolib.summary.Summary'>\n",
       "\"\"\"\n",
       "                            OLS Regression Results                            \n",
       "==============================================================================\n",
       "Dep. Variable:        Mosquito number   R-squared:                       0.015\n",
       "Model:                            OLS   Adj. R-squared:                  0.015\n",
       "Method:                 Least Squares   F-statistic:                     277.3\n",
       "Date:                Sun, 16 Apr 2023   Prob (F-statistic):           8.53e-62\n",
       "Time:                        23:51:42   Log-Likelihood:                -71773.\n",
       "No. Observations:               17913   AIC:                         1.435e+05\n",
       "Df Residuals:                   17911   BIC:                         1.436e+05\n",
       "Df Model:                           1                                         \n",
       "Covariance Type:            nonrobust                                         \n",
       "==============================================================================\n",
       "                 coef    std err          t      P>|t|      [0.025      0.975]\n",
       "------------------------------------------------------------------------------\n",
       "const       -881.4649     53.573    -16.454      0.000    -986.472    -776.457\n",
       "Year           0.4432      0.027     16.652      0.000       0.391       0.495\n",
       "==============================================================================\n",
       "Omnibus:                     5172.291   Durbin-Watson:                   1.509\n",
       "Prob(Omnibus):                  0.000   Jarque-Bera (JB):            11467.243\n",
       "Skew:                           1.700   Prob(JB):                         0.00\n",
       "Kurtosis:                       4.949   Cond. No.                     1.09e+06\n",
       "==============================================================================\n",
       "\n",
       "Notes:\n",
       "[1] Standard Errors assume that the covariance matrix of the errors is correctly specified.\n",
       "[2] The condition number is large, 1.09e+06. This might indicate that there are\n",
       "strong multicollinearity or other numerical problems.\n",
       "\"\"\""
      ]
     },
     "execution_count": 39,
     "metadata": {},
     "output_type": "execute_result"
    }
   ],
   "source": [
    "# Using only year as the independent variable\n",
    "X = df[df.select_dtypes('number').columns[:1]]\n",
    "y = df['Mosquito number'] # dependent variable\n",
    "\n",
    "X_withconstant = sm.add_constant(X) # adding constant\n",
    "\n",
    "# 1. Instantiate Model\n",
    "myregression = sm.OLS(y, X_withconstant)\n",
    "\n",
    "# 2. Fit Model\n",
    "myregression_results = myregression.fit()\n",
    "\n",
    "# Model summary\n",
    "myregression_results.summary()"
   ]
  },
  {
   "cell_type": "markdown",
   "id": "0da6990a",
   "metadata": {},
   "source": [
    "## Statistical Analysis - Adding More Features"
   ]
  },
  {
   "cell_type": "code",
   "execution_count": 40,
   "id": "8ba8cf5f",
   "metadata": {},
   "outputs": [
    {
     "data": {
      "text/html": [
       "<div>\n",
       "<style scoped>\n",
       "    .dataframe tbody tr th:only-of-type {\n",
       "        vertical-align: middle;\n",
       "    }\n",
       "\n",
       "    .dataframe tbody tr th {\n",
       "        vertical-align: top;\n",
       "    }\n",
       "\n",
       "    .dataframe thead th {\n",
       "        text-align: right;\n",
       "    }\n",
       "</style>\n",
       "<table border=\"1\" class=\"dataframe\">\n",
       "  <thead>\n",
       "    <tr style=\"text-align: right;\">\n",
       "      <th></th>\n",
       "      <th>Date</th>\n",
       "      <th>Year</th>\n",
       "      <th>Month</th>\n",
       "      <th>Week</th>\n",
       "      <th>Address Block</th>\n",
       "      <th>Lat</th>\n",
       "      <th>Lon</th>\n",
       "      <th>Trap</th>\n",
       "      <th>Mosquito number</th>\n",
       "      <th>WNV Present</th>\n",
       "      <th>Trap type_CDC</th>\n",
       "      <th>Trap type_GRAVID</th>\n",
       "      <th>Trap type_OVI</th>\n",
       "      <th>Trap type_SENTINEL</th>\n",
       "      <th>Species_CULEX PIPIENS</th>\n",
       "      <th>Species_CULEX RESTUANS</th>\n",
       "      <th>Species_CULEX SALINARIUS</th>\n",
       "      <th>Species_CULEX TERRITANS</th>\n",
       "    </tr>\n",
       "  </thead>\n",
       "  <tbody>\n",
       "    <tr>\n",
       "      <th>0</th>\n",
       "      <td>2019-09-26 00:09:00</td>\n",
       "      <td>2019</td>\n",
       "      <td>9</td>\n",
       "      <td>39</td>\n",
       "      <td>100XX W OHARE AIRPORT</td>\n",
       "      <td>41.977738</td>\n",
       "      <td>-87.880969</td>\n",
       "      <td>T910</td>\n",
       "      <td>2</td>\n",
       "      <td>negative</td>\n",
       "      <td>0</td>\n",
       "      <td>1</td>\n",
       "      <td>0</td>\n",
       "      <td>0</td>\n",
       "      <td>0</td>\n",
       "      <td>1</td>\n",
       "      <td>0</td>\n",
       "      <td>0</td>\n",
       "    </tr>\n",
       "    <tr>\n",
       "      <th>1</th>\n",
       "      <td>2019-09-26 00:09:00</td>\n",
       "      <td>2019</td>\n",
       "      <td>9</td>\n",
       "      <td>39</td>\n",
       "      <td>52XX S KOLMAR AVE</td>\n",
       "      <td>41.798211</td>\n",
       "      <td>-87.736925</td>\n",
       "      <td>T114</td>\n",
       "      <td>1</td>\n",
       "      <td>negative</td>\n",
       "      <td>0</td>\n",
       "      <td>1</td>\n",
       "      <td>0</td>\n",
       "      <td>0</td>\n",
       "      <td>0</td>\n",
       "      <td>1</td>\n",
       "      <td>0</td>\n",
       "      <td>0</td>\n",
       "    </tr>\n",
       "    <tr>\n",
       "      <th>2</th>\n",
       "      <td>2019-09-26 00:09:00</td>\n",
       "      <td>2019</td>\n",
       "      <td>9</td>\n",
       "      <td>39</td>\n",
       "      <td>58XX N WESTERN AVE</td>\n",
       "      <td>41.987245</td>\n",
       "      <td>-87.689417</td>\n",
       "      <td>T028</td>\n",
       "      <td>2</td>\n",
       "      <td>negative</td>\n",
       "      <td>0</td>\n",
       "      <td>1</td>\n",
       "      <td>0</td>\n",
       "      <td>0</td>\n",
       "      <td>0</td>\n",
       "      <td>1</td>\n",
       "      <td>0</td>\n",
       "      <td>0</td>\n",
       "    </tr>\n",
       "    <tr>\n",
       "      <th>3</th>\n",
       "      <td>2019-09-26 00:09:00</td>\n",
       "      <td>2019</td>\n",
       "      <td>9</td>\n",
       "      <td>39</td>\n",
       "      <td>39XX N SPRINGFIELD AVE</td>\n",
       "      <td>41.953664</td>\n",
       "      <td>-87.724987</td>\n",
       "      <td>T228</td>\n",
       "      <td>1</td>\n",
       "      <td>negative</td>\n",
       "      <td>0</td>\n",
       "      <td>1</td>\n",
       "      <td>0</td>\n",
       "      <td>0</td>\n",
       "      <td>0</td>\n",
       "      <td>1</td>\n",
       "      <td>0</td>\n",
       "      <td>0</td>\n",
       "    </tr>\n",
       "    <tr>\n",
       "      <th>4</th>\n",
       "      <td>2019-09-26 00:09:00</td>\n",
       "      <td>2019</td>\n",
       "      <td>9</td>\n",
       "      <td>39</td>\n",
       "      <td>131XX S BRANDON AVE</td>\n",
       "      <td>41.657069</td>\n",
       "      <td>-87.546049</td>\n",
       "      <td>T209</td>\n",
       "      <td>9</td>\n",
       "      <td>negative</td>\n",
       "      <td>0</td>\n",
       "      <td>1</td>\n",
       "      <td>0</td>\n",
       "      <td>0</td>\n",
       "      <td>0</td>\n",
       "      <td>1</td>\n",
       "      <td>0</td>\n",
       "      <td>0</td>\n",
       "    </tr>\n",
       "  </tbody>\n",
       "</table>\n",
       "</div>"
      ],
      "text/plain": [
       "                  Date  Year  Month  Week           Address Block        Lat  \\\n",
       "0  2019-09-26 00:09:00  2019      9    39   100XX W OHARE AIRPORT  41.977738   \n",
       "1  2019-09-26 00:09:00  2019      9    39       52XX S KOLMAR AVE  41.798211   \n",
       "2  2019-09-26 00:09:00  2019      9    39      58XX N WESTERN AVE  41.987245   \n",
       "3  2019-09-26 00:09:00  2019      9    39  39XX N SPRINGFIELD AVE  41.953664   \n",
       "4  2019-09-26 00:09:00  2019      9    39     131XX S BRANDON AVE  41.657069   \n",
       "\n",
       "         Lon  Trap  Mosquito number WNV Present  Trap type_CDC  \\\n",
       "0 -87.880969  T910                2    negative              0   \n",
       "1 -87.736925  T114                1    negative              0   \n",
       "2 -87.689417  T028                2    negative              0   \n",
       "3 -87.724987  T228                1    negative              0   \n",
       "4 -87.546049  T209                9    negative              0   \n",
       "\n",
       "   Trap type_GRAVID  Trap type_OVI  Trap type_SENTINEL  Species_CULEX PIPIENS  \\\n",
       "0                 1              0                   0                      0   \n",
       "1                 1              0                   0                      0   \n",
       "2                 1              0                   0                      0   \n",
       "3                 1              0                   0                      0   \n",
       "4                 1              0                   0                      0   \n",
       "\n",
       "   Species_CULEX RESTUANS  Species_CULEX SALINARIUS  Species_CULEX TERRITANS  \n",
       "0                       1                         0                        0  \n",
       "1                       1                         0                        0  \n",
       "2                       1                         0                        0  \n",
       "3                       1                         0                        0  \n",
       "4                       1                         0                        0  "
      ]
     },
     "execution_count": 40,
     "metadata": {},
     "output_type": "execute_result"
    }
   ],
   "source": [
    "# Create dummy variables for the 'Trap type' &'Species' columns\n",
    "dummy_cols = ['Trap type', 'Species']\n",
    "dummy_df = pd.get_dummies(df[dummy_cols])\n",
    "\n",
    "# Combine the original DataFrame with the dummy variables\n",
    "new_df = pd.concat([df.drop(dummy_cols, axis=1), dummy_df], axis=1)\n",
    "\n",
    "# Print the new DataFrame\n",
    "new_df.head()"
   ]
  },
  {
   "cell_type": "code",
   "execution_count": 41,
   "id": "39cb301d",
   "metadata": {},
   "outputs": [
    {
     "data": {
      "text/html": [
       "<div>\n",
       "<style scoped>\n",
       "    .dataframe tbody tr th:only-of-type {\n",
       "        vertical-align: middle;\n",
       "    }\n",
       "\n",
       "    .dataframe tbody tr th {\n",
       "        vertical-align: top;\n",
       "    }\n",
       "\n",
       "    .dataframe thead th {\n",
       "        text-align: right;\n",
       "    }\n",
       "</style>\n",
       "<table border=\"1\" class=\"dataframe\">\n",
       "  <thead>\n",
       "    <tr style=\"text-align: right;\">\n",
       "      <th></th>\n",
       "      <th>Year</th>\n",
       "      <th>Month</th>\n",
       "      <th>WNV Present</th>\n",
       "      <th>Trap type_CDC</th>\n",
       "      <th>Trap type_GRAVID</th>\n",
       "      <th>Trap type_OVI</th>\n",
       "      <th>Trap type_SENTINEL</th>\n",
       "      <th>Species_CULEX PIPIENS</th>\n",
       "      <th>Species_CULEX RESTUANS</th>\n",
       "      <th>Species_CULEX SALINARIUS</th>\n",
       "      <th>Species_CULEX TERRITANS</th>\n",
       "    </tr>\n",
       "  </thead>\n",
       "  <tbody>\n",
       "    <tr>\n",
       "      <th>0</th>\n",
       "      <td>2019</td>\n",
       "      <td>9</td>\n",
       "      <td>0</td>\n",
       "      <td>0</td>\n",
       "      <td>1</td>\n",
       "      <td>0</td>\n",
       "      <td>0</td>\n",
       "      <td>0</td>\n",
       "      <td>1</td>\n",
       "      <td>0</td>\n",
       "      <td>0</td>\n",
       "    </tr>\n",
       "    <tr>\n",
       "      <th>1</th>\n",
       "      <td>2019</td>\n",
       "      <td>9</td>\n",
       "      <td>0</td>\n",
       "      <td>0</td>\n",
       "      <td>1</td>\n",
       "      <td>0</td>\n",
       "      <td>0</td>\n",
       "      <td>0</td>\n",
       "      <td>1</td>\n",
       "      <td>0</td>\n",
       "      <td>0</td>\n",
       "    </tr>\n",
       "    <tr>\n",
       "      <th>2</th>\n",
       "      <td>2019</td>\n",
       "      <td>9</td>\n",
       "      <td>0</td>\n",
       "      <td>0</td>\n",
       "      <td>1</td>\n",
       "      <td>0</td>\n",
       "      <td>0</td>\n",
       "      <td>0</td>\n",
       "      <td>1</td>\n",
       "      <td>0</td>\n",
       "      <td>0</td>\n",
       "    </tr>\n",
       "    <tr>\n",
       "      <th>3</th>\n",
       "      <td>2019</td>\n",
       "      <td>9</td>\n",
       "      <td>0</td>\n",
       "      <td>0</td>\n",
       "      <td>1</td>\n",
       "      <td>0</td>\n",
       "      <td>0</td>\n",
       "      <td>0</td>\n",
       "      <td>1</td>\n",
       "      <td>0</td>\n",
       "      <td>0</td>\n",
       "    </tr>\n",
       "    <tr>\n",
       "      <th>4</th>\n",
       "      <td>2019</td>\n",
       "      <td>9</td>\n",
       "      <td>0</td>\n",
       "      <td>0</td>\n",
       "      <td>1</td>\n",
       "      <td>0</td>\n",
       "      <td>0</td>\n",
       "      <td>0</td>\n",
       "      <td>1</td>\n",
       "      <td>0</td>\n",
       "      <td>0</td>\n",
       "    </tr>\n",
       "  </tbody>\n",
       "</table>\n",
       "</div>"
      ],
      "text/plain": [
       "   Year  Month  WNV Present  Trap type_CDC  Trap type_GRAVID  Trap type_OVI  \\\n",
       "0  2019      9            0              0                 1              0   \n",
       "1  2019      9            0              0                 1              0   \n",
       "2  2019      9            0              0                 1              0   \n",
       "3  2019      9            0              0                 1              0   \n",
       "4  2019      9            0              0                 1              0   \n",
       "\n",
       "   Trap type_SENTINEL  Species_CULEX PIPIENS  Species_CULEX RESTUANS  \\\n",
       "0                   0                      0                       1   \n",
       "1                   0                      0                       1   \n",
       "2                   0                      0                       1   \n",
       "3                   0                      0                       1   \n",
       "4                   0                      0                       1   \n",
       "\n",
       "   Species_CULEX SALINARIUS  Species_CULEX TERRITANS  \n",
       "0                         0                        0  \n",
       "1                         0                        0  \n",
       "2                         0                        0  \n",
       "3                         0                        0  \n",
       "4                         0                        0  "
      ]
     },
     "execution_count": 41,
     "metadata": {},
     "output_type": "execute_result"
    }
   ],
   "source": [
    "# Making WNV Present a binary column\n",
    "new_df['WNV Present'] = np.where(df['WNV Present'] == \"positive\",1,0)\n",
    "\n",
    "X = new_df[new_df.select_dtypes('number').columns[:]]\n",
    "irrelevant_cols = ['Week', 'Lat', 'Lon', 'Mosquito number']\n",
    "\n",
    "# independent numerical variables excluding 'Week', 'Lat'/'Lon' & 'Mosquito number'\n",
    "X = X.drop(irrelevant_cols, axis=1)\n",
    "y = new_df['Mosquito number']\n",
    "\n",
    "X.head()"
   ]
  },
  {
   "cell_type": "code",
   "execution_count": 42,
   "id": "b19d87e9",
   "metadata": {},
   "outputs": [
    {
     "data": {
      "image/png": "[encoded data removed]",
      "text/plain": [
       "<Figure size 720x576 with 2 Axes>"
      ]
     },
     "metadata": {},
     "output_type": "display_data"
    }
   ],
   "source": [
    "# Creating a heatmap of the correlation matrix\n",
    "\n",
    "# Combine the original DataFrame with the dummy variables\n",
    "corr_df = pd.concat([X, y], axis=1)\n",
    "\n",
    "sns.set(style=\"white\")\n",
    "mask = np.triu(np.ones_like(corr_df.corr(), dtype=bool))\n",
    "cmap = sns.diverging_palette(230, 20, as_cmap=True)\n",
    "plt.figure(figsize=(10, 8))\n",
    "sns.heatmap(corr_df.corr(), cmap=cmap, annot=True, fmt=\".2f\", linewidths=.5, mask=mask)\n",
    "plt.show()"
   ]
  },
  {
   "cell_type": "markdown",
   "id": "237c4c1a",
   "metadata": {},
   "source": [
    "From the heat map above, we can see that there is strong negative correlations between Trap type_GRAVID & Trap type_CDC, as well as between Species_CULEX PIPIENS & Species_CULEX RESTUANS columns. Without further modelling, it is not certain if these will cause any problems for our models. However, since we expect both species and trap types to be independent in reality, we will keep both columns in our analysis.\n",
    "\n",
    "We can also note that there is a weak positive linear relationship between mosquito number and WNV Present columns with a correlation coefficient of 0.4. However, since we are trying to predict the number of mosquitos, we will exclude the WNV Present column from the independent variables.\n",
    "\n",
    "Lastly, there is a weak negative correlation between Mosquito number and Trap type_GRAVID & Species_CULEX TERRITANS although the correlation coefficient is low(-0.15)"
   ]
  },
  {
   "cell_type": "code",
   "execution_count": 43,
   "id": "4fd07054",
   "metadata": {},
   "outputs": [
    {
     "name": "stderr",
     "output_type": "stream",
     "text": [
      "/Users/fejiroobor/anaconda3/lib/python3.9/site-packages/statsmodels/tsa/tsatools.py:142: FutureWarning: In a future version of pandas all arguments of concat except for the argument 'objs' will be keyword-only\n",
      "  x = pd.concat(x[::order], 1)\n"
     ]
    },
    {
     "data": {
      "text/html": [
       "<table class=\"simpletable\">\n",
       "<caption>OLS Regression Results</caption>\n",
       "<tr>\n",
       "  <th>Dep. Variable:</th>     <td>Mosquito number</td> <th>  R-squared:         </th> <td>   0.072</td> \n",
       "</tr>\n",
       "<tr>\n",
       "  <th>Model:</th>                   <td>OLS</td>       <th>  Adj. R-squared:    </th> <td>   0.072</td> \n",
       "</tr>\n",
       "<tr>\n",
       "  <th>Method:</th>             <td>Least Squares</td>  <th>  F-statistic:       </th> <td>   174.6</td> \n",
       "</tr>\n",
       "<tr>\n",
       "  <th>Date:</th>             <td>Sun, 16 Apr 2023</td> <th>  Prob (F-statistic):</th> <td>3.76e-285</td>\n",
       "</tr>\n",
       "<tr>\n",
       "  <th>Time:</th>                 <td>23:51:42</td>     <th>  Log-Likelihood:    </th> <td> -71238.</td> \n",
       "</tr>\n",
       "<tr>\n",
       "  <th>No. Observations:</th>      <td> 17913</td>      <th>  AIC:               </th> <td>1.425e+05</td>\n",
       "</tr>\n",
       "<tr>\n",
       "  <th>Df Residuals:</th>          <td> 17904</td>      <th>  BIC:               </th> <td>1.426e+05</td>\n",
       "</tr>\n",
       "<tr>\n",
       "  <th>Df Model:</th>              <td>     8</td>      <th>                     </th>     <td> </td>    \n",
       "</tr>\n",
       "<tr>\n",
       "  <th>Covariance Type:</th>      <td>nonrobust</td>    <th>                     </th>     <td> </td>    \n",
       "</tr>\n",
       "</table>\n",
       "<table class=\"simpletable\">\n",
       "<tr>\n",
       "              <td></td>                <th>coef</th>     <th>std err</th>      <th>t</th>      <th>P>|t|</th>  <th>[0.025</th>    <th>0.975]</th>  \n",
       "</tr>\n",
       "<tr>\n",
       "  <th>const</th>                    <td> -726.9890</td> <td>   38.418</td> <td>  -18.923</td> <td> 0.000</td> <td> -802.291</td> <td> -651.687</td>\n",
       "</tr>\n",
       "<tr>\n",
       "  <th>Year</th>                     <td>    0.5494</td> <td>    0.029</td> <td>   19.201</td> <td> 0.000</td> <td>    0.493</td> <td>    0.606</td>\n",
       "</tr>\n",
       "<tr>\n",
       "  <th>Month</th>                    <td>   -0.7034</td> <td>    0.102</td> <td>   -6.872</td> <td> 0.000</td> <td>   -0.904</td> <td>   -0.503</td>\n",
       "</tr>\n",
       "<tr>\n",
       "  <th>Trap type_CDC</th>            <td> -174.4955</td> <td>    9.880</td> <td>  -17.662</td> <td> 0.000</td> <td> -193.861</td> <td> -155.130</td>\n",
       "</tr>\n",
       "<tr>\n",
       "  <th>Trap type_GRAVID</th>         <td> -185.3415</td> <td>    9.996</td> <td>  -18.542</td> <td> 0.000</td> <td> -204.934</td> <td> -165.749</td>\n",
       "</tr>\n",
       "<tr>\n",
       "  <th>Trap type_OVI</th>            <td> -193.8599</td> <td>   13.962</td> <td>  -13.885</td> <td> 0.000</td> <td> -221.227</td> <td> -166.493</td>\n",
       "</tr>\n",
       "<tr>\n",
       "  <th>Trap type_SENTINEL</th>       <td> -173.2921</td> <td>   10.124</td> <td>  -17.116</td> <td> 0.000</td> <td> -193.137</td> <td> -153.447</td>\n",
       "</tr>\n",
       "<tr>\n",
       "  <th>Species_CULEX PIPIENS</th>    <td> -176.6142</td> <td>    9.576</td> <td>  -18.443</td> <td> 0.000</td> <td> -195.384</td> <td> -157.844</td>\n",
       "</tr>\n",
       "<tr>\n",
       "  <th>Species_CULEX RESTUANS</th>   <td> -177.8916</td> <td>    9.651</td> <td>  -18.433</td> <td> 0.000</td> <td> -196.808</td> <td> -158.975</td>\n",
       "</tr>\n",
       "<tr>\n",
       "  <th>Species_CULEX SALINARIUS</th> <td> -186.0951</td> <td>    9.595</td> <td>  -19.394</td> <td> 0.000</td> <td> -204.903</td> <td> -167.287</td>\n",
       "</tr>\n",
       "<tr>\n",
       "  <th>Species_CULEX TERRITANS</th>  <td> -186.3881</td> <td>    9.634</td> <td>  -19.347</td> <td> 0.000</td> <td> -205.272</td> <td> -167.505</td>\n",
       "</tr>\n",
       "</table>\n",
       "<table class=\"simpletable\">\n",
       "<tr>\n",
       "  <th>Omnibus:</th>       <td>4749.144</td> <th>  Durbin-Watson:     </th> <td>   1.539</td>\n",
       "</tr>\n",
       "<tr>\n",
       "  <th>Prob(Omnibus):</th>  <td> 0.000</td>  <th>  Jarque-Bera (JB):  </th> <td>9958.131</td>\n",
       "</tr>\n",
       "<tr>\n",
       "  <th>Skew:</th>           <td> 1.587</td>  <th>  Prob(JB):          </th> <td>    0.00</td>\n",
       "</tr>\n",
       "<tr>\n",
       "  <th>Kurtosis:</th>       <td> 4.806</td>  <th>  Cond. No.          </th> <td>5.89e+18</td>\n",
       "</tr>\n",
       "</table><br/><br/>Notes:<br/>[1] Standard Errors assume that the covariance matrix of the errors is correctly specified.<br/>[2] The smallest eigenvalue is 2.09e-27. This might indicate that there are<br/>strong multicollinearity problems or that the design matrix is singular."
      ],
      "text/plain": [
       "<class 'statsmodels.iolib.summary.Summary'>\n",
       "\"\"\"\n",
       "                            OLS Regression Results                            \n",
       "==============================================================================\n",
       "Dep. Variable:        Mosquito number   R-squared:                       0.072\n",
       "Model:                            OLS   Adj. R-squared:                  0.072\n",
       "Method:                 Least Squares   F-statistic:                     174.6\n",
       "Date:                Sun, 16 Apr 2023   Prob (F-statistic):          3.76e-285\n",
       "Time:                        23:51:42   Log-Likelihood:                -71238.\n",
       "No. Observations:               17913   AIC:                         1.425e+05\n",
       "Df Residuals:                   17904   BIC:                         1.426e+05\n",
       "Df Model:                           8                                         \n",
       "Covariance Type:            nonrobust                                         \n",
       "============================================================================================\n",
       "                               coef    std err          t      P>|t|      [0.025      0.975]\n",
       "--------------------------------------------------------------------------------------------\n",
       "const                     -726.9890     38.418    -18.923      0.000    -802.291    -651.687\n",
       "Year                         0.5494      0.029     19.201      0.000       0.493       0.606\n",
       "Month                       -0.7034      0.102     -6.872      0.000      -0.904      -0.503\n",
       "Trap type_CDC             -174.4955      9.880    -17.662      0.000    -193.861    -155.130\n",
       "Trap type_GRAVID          -185.3415      9.996    -18.542      0.000    -204.934    -165.749\n",
       "Trap type_OVI             -193.8599     13.962    -13.885      0.000    -221.227    -166.493\n",
       "Trap type_SENTINEL        -173.2921     10.124    -17.116      0.000    -193.137    -153.447\n",
       "Species_CULEX PIPIENS     -176.6142      9.576    -18.443      0.000    -195.384    -157.844\n",
       "Species_CULEX RESTUANS    -177.8916      9.651    -18.433      0.000    -196.808    -158.975\n",
       "Species_CULEX SALINARIUS  -186.0951      9.595    -19.394      0.000    -204.903    -167.287\n",
       "Species_CULEX TERRITANS   -186.3881      9.634    -19.347      0.000    -205.272    -167.505\n",
       "==============================================================================\n",
       "Omnibus:                     4749.144   Durbin-Watson:                   1.539\n",
       "Prob(Omnibus):                  0.000   Jarque-Bera (JB):             9958.131\n",
       "Skew:                           1.587   Prob(JB):                         0.00\n",
       "Kurtosis:                       4.806   Cond. No.                     5.89e+18\n",
       "==============================================================================\n",
       "\n",
       "Notes:\n",
       "[1] Standard Errors assume that the covariance matrix of the errors is correctly specified.\n",
       "[2] The smallest eigenvalue is 2.09e-27. This might indicate that there are\n",
       "strong multicollinearity problems or that the design matrix is singular.\n",
       "\"\"\""
      ]
     },
     "execution_count": 43,
     "metadata": {},
     "output_type": "execute_result"
    }
   ],
   "source": [
    "X = X.drop('WNV Present', axis=1) #Exclude 'WNV Present' from the independent variables\n",
    "\n",
    "X_withconstant = sm.add_constant(X) # adding constant\n",
    "\n",
    "# 1. Instantiate Model\n",
    "myregression = sm.OLS(y, X_withconstant)\n",
    "\n",
    "# 2. Fit Model\n",
    "myregression_results = myregression.fit()\n",
    "\n",
    "# Model summary\n",
    "myregression_results.summary()"
   ]
  },
  {
   "cell_type": "markdown",
   "id": "136f8a1f",
   "metadata": {},
   "source": [
    "## Evaluating the Linear Model"
   ]
  },
  {
   "cell_type": "markdown",
   "id": "db623887",
   "metadata": {},
   "source": [
    "Next we can perform some diagnostics to evaluate the model:"
   ]
  },
  {
   "cell_type": "code",
   "execution_count": 44,
   "id": "3e2a46e6",
   "metadata": {},
   "outputs": [],
   "source": [
    "model_resids = myregression_results.resid\n",
    "\n",
    "model_fittedvals = myregression_results.fittedvalues"
   ]
  },
  {
   "cell_type": "markdown",
   "id": "622d6219",
   "metadata": {},
   "source": [
    "Looking at the histogram of the residuals:"
   ]
  },
  {
   "cell_type": "code",
   "execution_count": 45,
   "id": "5c20f9b7",
   "metadata": {},
   "outputs": [
    {
     "data": {
      "image/png": "[encoded data removed]",
      "text/plain": [
       "<Figure size 432x288 with 1 Axes>"
      ]
     },
     "metadata": {},
     "output_type": "display_data"
    }
   ],
   "source": [
    "plt.figure()\n",
    "plt.hist(model_resids, bins = 12)\n",
    "plt.title('Histogram of Residuals')\n",
    "plt.show()"
   ]
  },
  {
   "cell_type": "markdown",
   "id": "e19676f3",
   "metadata": {},
   "source": [
    "As seen in the graph above, the plot of the residuals are not normally distributed. The histogram is heavily skewed to the right"
   ]
  },
  {
   "cell_type": "code",
   "execution_count": 46,
   "id": "d948b5a6",
   "metadata": {},
   "outputs": [
    {
     "name": "stdout",
     "output_type": "stream",
     "text": [
      "Shapiro-Wilk Test:  ShapiroResult(statistic=0.8048163652420044, pvalue=0.0)\n"
     ]
    },
    {
     "name": "stderr",
     "output_type": "stream",
     "text": [
      "/Users/fejiroobor/anaconda3/lib/python3.9/site-packages/scipy/stats/morestats.py:1760: UserWarning: p-value may not be accurate for N > 5000.\n",
      "  warnings.warn(\"p-value may not be accurate for N > 5000.\")\n"
     ]
    }
   ],
   "source": [
    "print(\"Shapiro-Wilk Test: \", stats.shapiro(model_resids))"
   ]
  },
  {
   "cell_type": "markdown",
   "id": "8bec1153",
   "metadata": {},
   "source": [
    "From the p-value output of the Shapiro Wilk Test above, we can safely reject the null hyputhesis that our model's residuals come from a normal distribution using a significance level of 0.05."
   ]
  },
  {
   "cell_type": "code",
   "execution_count": 47,
   "id": "a1156874",
   "metadata": {},
   "outputs": [
    {
     "data": {
      "image/png": "[encoded data removed]",
      "text/plain": [
       "<Figure size 432x288 with 1 Axes>"
      ]
     },
     "metadata": {},
     "output_type": "display_data"
    }
   ],
   "source": [
    "plt.figure()\n",
    "plt.scatter(model_fittedvals, model_resids)\n",
    "plt.xlabel('Fitted Values')\n",
    "plt.ylabel('Residuals')\n",
    "plt.title('Scatter plot of Residuals vs Fitted Values')\n",
    "plt.show()"
   ]
  },
  {
   "cell_type": "markdown",
   "id": "ea7d7ca8",
   "metadata": {},
   "source": [
    "From the plot above, the variance of error terms is also not similar across the values of the independent variables. Rather than looking like random noise, we can recognize a pattern in the residuals vs fitted values. Therefore, our data violates the principles of Homoscedasticity."
   ]
  },
  {
   "cell_type": "markdown",
   "id": "e50f8077",
   "metadata": {},
   "source": [
    "## Statistical Analysis - Logistic Regression"
   ]
  },
  {
   "cell_type": "markdown",
   "id": "875f6db8",
   "metadata": {},
   "source": [
    "Next, we will try to develop a logistic regression model that aims to predict WNV Presence based on the Date, Mosquito number, Trap type & Mosquito Species."
   ]
  },
  {
   "cell_type": "code",
   "execution_count": 48,
   "id": "4ee63283",
   "metadata": {},
   "outputs": [
    {
     "data": {
      "text/html": [
       "<div>\n",
       "<style scoped>\n",
       "    .dataframe tbody tr th:only-of-type {\n",
       "        vertical-align: middle;\n",
       "    }\n",
       "\n",
       "    .dataframe tbody tr th {\n",
       "        vertical-align: top;\n",
       "    }\n",
       "\n",
       "    .dataframe thead th {\n",
       "        text-align: right;\n",
       "    }\n",
       "</style>\n",
       "<table border=\"1\" class=\"dataframe\">\n",
       "  <thead>\n",
       "    <tr style=\"text-align: right;\">\n",
       "      <th></th>\n",
       "      <th>Year</th>\n",
       "      <th>Month</th>\n",
       "      <th>Mosquito number</th>\n",
       "      <th>Trap type_CDC</th>\n",
       "      <th>Trap type_GRAVID</th>\n",
       "      <th>Trap type_SENTINEL</th>\n",
       "      <th>Species_CULEX PIPIENS</th>\n",
       "      <th>Species_CULEX RESTUANS</th>\n",
       "      <th>Species_CULEX TERRITANS</th>\n",
       "    </tr>\n",
       "  </thead>\n",
       "  <tbody>\n",
       "    <tr>\n",
       "      <th>0</th>\n",
       "      <td>2019</td>\n",
       "      <td>9</td>\n",
       "      <td>2</td>\n",
       "      <td>0</td>\n",
       "      <td>1</td>\n",
       "      <td>0</td>\n",
       "      <td>0</td>\n",
       "      <td>1</td>\n",
       "      <td>0</td>\n",
       "    </tr>\n",
       "    <tr>\n",
       "      <th>1</th>\n",
       "      <td>2019</td>\n",
       "      <td>9</td>\n",
       "      <td>1</td>\n",
       "      <td>0</td>\n",
       "      <td>1</td>\n",
       "      <td>0</td>\n",
       "      <td>0</td>\n",
       "      <td>1</td>\n",
       "      <td>0</td>\n",
       "    </tr>\n",
       "    <tr>\n",
       "      <th>2</th>\n",
       "      <td>2019</td>\n",
       "      <td>9</td>\n",
       "      <td>2</td>\n",
       "      <td>0</td>\n",
       "      <td>1</td>\n",
       "      <td>0</td>\n",
       "      <td>0</td>\n",
       "      <td>1</td>\n",
       "      <td>0</td>\n",
       "    </tr>\n",
       "    <tr>\n",
       "      <th>3</th>\n",
       "      <td>2019</td>\n",
       "      <td>9</td>\n",
       "      <td>1</td>\n",
       "      <td>0</td>\n",
       "      <td>1</td>\n",
       "      <td>0</td>\n",
       "      <td>0</td>\n",
       "      <td>1</td>\n",
       "      <td>0</td>\n",
       "    </tr>\n",
       "    <tr>\n",
       "      <th>4</th>\n",
       "      <td>2019</td>\n",
       "      <td>9</td>\n",
       "      <td>9</td>\n",
       "      <td>0</td>\n",
       "      <td>1</td>\n",
       "      <td>0</td>\n",
       "      <td>0</td>\n",
       "      <td>1</td>\n",
       "      <td>0</td>\n",
       "    </tr>\n",
       "  </tbody>\n",
       "</table>\n",
       "</div>"
      ],
      "text/plain": [
       "   Year  Month  Mosquito number  Trap type_CDC  Trap type_GRAVID  \\\n",
       "0  2019      9                2              0                 1   \n",
       "1  2019      9                1              0                 1   \n",
       "2  2019      9                2              0                 1   \n",
       "3  2019      9                1              0                 1   \n",
       "4  2019      9                9              0                 1   \n",
       "\n",
       "   Trap type_SENTINEL  Species_CULEX PIPIENS  Species_CULEX RESTUANS  \\\n",
       "0                   0                      0                       1   \n",
       "1                   0                      0                       1   \n",
       "2                   0                      0                       1   \n",
       "3                   0                      0                       1   \n",
       "4                   0                      0                       1   \n",
       "\n",
       "   Species_CULEX TERRITANS  \n",
       "0                        0  \n",
       "1                        0  \n",
       "2                        0  \n",
       "3                        0  \n",
       "4                        0  "
      ]
     },
     "execution_count": 48,
     "metadata": {},
     "output_type": "execute_result"
    }
   ],
   "source": [
    "# Making WNV Present a binary column\n",
    "new_df['WNV Present'] = np.where(df['WNV Present'] == \"positive\",1,0)\n",
    "\n",
    "# Getting Independent variables from numerical columns\n",
    "# target variable is WNV Presence\n",
    "# Independent numerical variables excluding 'Week', 'Lat'/'Lon' & 'WNV Present'\n",
    "# Also excluding 'Trap type_OVI' &'Species_CULEX SALINARIUS' columns to avoid multicolinearity problems\n",
    "X = new_df[new_df.select_dtypes('number').columns[:]]\n",
    "irrelevant_cols = ['Week', 'Lat', 'Lon', 'WNV Present', 'Trap type_OVI', 'Species_CULEX SALINARIUS']\n",
    "\n",
    "X = X.drop(irrelevant_cols, axis=1)\n",
    "y = new_df['WNV Present']\n",
    "\n",
    "X.head()"
   ]
  },
  {
   "cell_type": "code",
   "execution_count": 49,
   "id": "7696e184",
   "metadata": {},
   "outputs": [
    {
     "name": "stderr",
     "output_type": "stream",
     "text": [
      "/Users/fejiroobor/anaconda3/lib/python3.9/site-packages/statsmodels/tsa/tsatools.py:142: FutureWarning: In a future version of pandas all arguments of concat except for the argument 'objs' will be keyword-only\n",
      "  x = pd.concat(x[::order], 1)\n"
     ]
    },
    {
     "data": {
      "text/html": [
       "<div>\n",
       "<style scoped>\n",
       "    .dataframe tbody tr th:only-of-type {\n",
       "        vertical-align: middle;\n",
       "    }\n",
       "\n",
       "    .dataframe tbody tr th {\n",
       "        vertical-align: top;\n",
       "    }\n",
       "\n",
       "    .dataframe thead th {\n",
       "        text-align: right;\n",
       "    }\n",
       "</style>\n",
       "<table border=\"1\" class=\"dataframe\">\n",
       "  <thead>\n",
       "    <tr style=\"text-align: right;\">\n",
       "      <th></th>\n",
       "      <th>const</th>\n",
       "      <th>Year</th>\n",
       "      <th>Month</th>\n",
       "      <th>Mosquito number</th>\n",
       "      <th>Trap type_CDC</th>\n",
       "      <th>Trap type_GRAVID</th>\n",
       "      <th>Trap type_SENTINEL</th>\n",
       "      <th>Species_CULEX PIPIENS</th>\n",
       "      <th>Species_CULEX RESTUANS</th>\n",
       "      <th>Species_CULEX TERRITANS</th>\n",
       "    </tr>\n",
       "  </thead>\n",
       "  <tbody>\n",
       "    <tr>\n",
       "      <th>0</th>\n",
       "      <td>1.0</td>\n",
       "      <td>2019</td>\n",
       "      <td>9</td>\n",
       "      <td>2</td>\n",
       "      <td>0</td>\n",
       "      <td>1</td>\n",
       "      <td>0</td>\n",
       "      <td>0</td>\n",
       "      <td>1</td>\n",
       "      <td>0</td>\n",
       "    </tr>\n",
       "    <tr>\n",
       "      <th>1</th>\n",
       "      <td>1.0</td>\n",
       "      <td>2019</td>\n",
       "      <td>9</td>\n",
       "      <td>1</td>\n",
       "      <td>0</td>\n",
       "      <td>1</td>\n",
       "      <td>0</td>\n",
       "      <td>0</td>\n",
       "      <td>1</td>\n",
       "      <td>0</td>\n",
       "    </tr>\n",
       "    <tr>\n",
       "      <th>2</th>\n",
       "      <td>1.0</td>\n",
       "      <td>2019</td>\n",
       "      <td>9</td>\n",
       "      <td>2</td>\n",
       "      <td>0</td>\n",
       "      <td>1</td>\n",
       "      <td>0</td>\n",
       "      <td>0</td>\n",
       "      <td>1</td>\n",
       "      <td>0</td>\n",
       "    </tr>\n",
       "    <tr>\n",
       "      <th>3</th>\n",
       "      <td>1.0</td>\n",
       "      <td>2019</td>\n",
       "      <td>9</td>\n",
       "      <td>1</td>\n",
       "      <td>0</td>\n",
       "      <td>1</td>\n",
       "      <td>0</td>\n",
       "      <td>0</td>\n",
       "      <td>1</td>\n",
       "      <td>0</td>\n",
       "    </tr>\n",
       "    <tr>\n",
       "      <th>4</th>\n",
       "      <td>1.0</td>\n",
       "      <td>2019</td>\n",
       "      <td>9</td>\n",
       "      <td>9</td>\n",
       "      <td>0</td>\n",
       "      <td>1</td>\n",
       "      <td>0</td>\n",
       "      <td>0</td>\n",
       "      <td>1</td>\n",
       "      <td>0</td>\n",
       "    </tr>\n",
       "  </tbody>\n",
       "</table>\n",
       "</div>"
      ],
      "text/plain": [
       "   const  Year  Month  Mosquito number  Trap type_CDC  Trap type_GRAVID  \\\n",
       "0    1.0  2019      9                2              0                 1   \n",
       "1    1.0  2019      9                1              0                 1   \n",
       "2    1.0  2019      9                2              0                 1   \n",
       "3    1.0  2019      9                1              0                 1   \n",
       "4    1.0  2019      9                9              0                 1   \n",
       "\n",
       "   Trap type_SENTINEL  Species_CULEX PIPIENS  Species_CULEX RESTUANS  \\\n",
       "0                   0                      0                       1   \n",
       "1                   0                      0                       1   \n",
       "2                   0                      0                       1   \n",
       "3                   0                      0                       1   \n",
       "4                   0                      0                       1   \n",
       "\n",
       "   Species_CULEX TERRITANS  \n",
       "0                        0  \n",
       "1                        0  \n",
       "2                        0  \n",
       "3                        0  \n",
       "4                        0  "
      ]
     },
     "execution_count": 49,
     "metadata": {},
     "output_type": "execute_result"
    }
   ],
   "source": [
    "X_withconstant = sm.add_constant(X) # Add constant\n",
    "X_withconstant.head()"
   ]
  },
  {
   "cell_type": "code",
   "execution_count": 50,
   "id": "5bb5601b",
   "metadata": {},
   "outputs": [
    {
     "name": "stdout",
     "output_type": "stream",
     "text": [
      "Warning: Maximum number of iterations has been exceeded.\n",
      "         Current function value: 0.382771\n",
      "         Iterations: 35\n"
     ]
    },
    {
     "name": "stderr",
     "output_type": "stream",
     "text": [
      "/Users/fejiroobor/anaconda3/lib/python3.9/site-packages/statsmodels/base/model.py:566: ConvergenceWarning: Maximum Likelihood optimization failed to converge. Check mle_retvals\n",
      "  warnings.warn(\"Maximum Likelihood optimization failed to \"\n"
     ]
    },
    {
     "data": {
      "text/html": [
       "<table class=\"simpletable\">\n",
       "<caption>Logit Regression Results</caption>\n",
       "<tr>\n",
       "  <th>Dep. Variable:</th>      <td>WNV Present</td>   <th>  No. Observations:  </th>  <td> 17913</td> \n",
       "</tr>\n",
       "<tr>\n",
       "  <th>Model:</th>                 <td>Logit</td>      <th>  Df Residuals:      </th>  <td> 17903</td> \n",
       "</tr>\n",
       "<tr>\n",
       "  <th>Method:</th>                 <td>MLE</td>       <th>  Df Model:          </th>  <td>     9</td> \n",
       "</tr>\n",
       "<tr>\n",
       "  <th>Date:</th>            <td>Sun, 16 Apr 2023</td> <th>  Pseudo R-squ.:     </th>  <td>0.2139</td> \n",
       "</tr>\n",
       "<tr>\n",
       "  <th>Time:</th>                <td>23:51:43</td>     <th>  Log-Likelihood:    </th> <td> -6856.6</td>\n",
       "</tr>\n",
       "<tr>\n",
       "  <th>converged:</th>             <td>False</td>      <th>  LL-Null:           </th> <td> -8722.1</td>\n",
       "</tr>\n",
       "<tr>\n",
       "  <th>Covariance Type:</th>     <td>nonrobust</td>    <th>  LLR p-value:       </th>  <td> 0.000</td> \n",
       "</tr>\n",
       "</table>\n",
       "<table class=\"simpletable\">\n",
       "<tr>\n",
       "             <td></td>                <th>coef</th>     <th>std err</th>      <th>z</th>      <th>P>|z|</th>  <th>[0.025</th>    <th>0.975]</th>  \n",
       "</tr>\n",
       "<tr>\n",
       "  <th>const</th>                   <td> -270.4831</td> <td> 3188.326</td> <td>   -0.085</td> <td> 0.932</td> <td>-6519.487</td> <td> 5978.521</td>\n",
       "</tr>\n",
       "<tr>\n",
       "  <th>Year</th>                    <td>    0.1242</td> <td>    0.007</td> <td>   17.444</td> <td> 0.000</td> <td>    0.110</td> <td>    0.138</td>\n",
       "</tr>\n",
       "<tr>\n",
       "  <th>Month</th>                   <td>    0.6293</td> <td>    0.026</td> <td>   24.603</td> <td> 0.000</td> <td>    0.579</td> <td>    0.679</td>\n",
       "</tr>\n",
       "<tr>\n",
       "  <th>Mosquito number</th>         <td>    0.0675</td> <td>    0.001</td> <td>   45.274</td> <td> 0.000</td> <td>    0.065</td> <td>    0.070</td>\n",
       "</tr>\n",
       "<tr>\n",
       "  <th>Trap type_CDC</th>           <td>   11.8020</td> <td> 3188.294</td> <td>    0.004</td> <td> 0.997</td> <td>-6237.139</td> <td> 6260.743</td>\n",
       "</tr>\n",
       "<tr>\n",
       "  <th>Trap type_GRAVID</th>        <td>   12.2135</td> <td> 3188.294</td> <td>    0.004</td> <td> 0.997</td> <td>-6236.727</td> <td> 6261.154</td>\n",
       "</tr>\n",
       "<tr>\n",
       "  <th>Trap type_SENTINEL</th>      <td>   11.7446</td> <td> 3188.294</td> <td>    0.004</td> <td> 0.997</td> <td>-6237.196</td> <td> 6260.685</td>\n",
       "</tr>\n",
       "<tr>\n",
       "  <th>Species_CULEX PIPIENS</th>   <td>    1.2830</td> <td>    0.398</td> <td>    3.222</td> <td> 0.001</td> <td>    0.502</td> <td>    2.064</td>\n",
       "</tr>\n",
       "<tr>\n",
       "  <th>Species_CULEX RESTUANS</th>  <td>    0.9471</td> <td>    0.398</td> <td>    2.381</td> <td> 0.017</td> <td>    0.168</td> <td>    1.727</td>\n",
       "</tr>\n",
       "<tr>\n",
       "  <th>Species_CULEX TERRITANS</th> <td>   -1.1445</td> <td>    0.480</td> <td>   -2.384</td> <td> 0.017</td> <td>   -2.085</td> <td>   -0.203</td>\n",
       "</tr>\n",
       "</table>"
      ],
      "text/plain": [
       "<class 'statsmodels.iolib.summary.Summary'>\n",
       "\"\"\"\n",
       "                           Logit Regression Results                           \n",
       "==============================================================================\n",
       "Dep. Variable:            WNV Present   No. Observations:                17913\n",
       "Model:                          Logit   Df Residuals:                    17903\n",
       "Method:                           MLE   Df Model:                            9\n",
       "Date:                Sun, 16 Apr 2023   Pseudo R-squ.:                  0.2139\n",
       "Time:                        23:51:43   Log-Likelihood:                -6856.6\n",
       "converged:                      False   LL-Null:                       -8722.1\n",
       "Covariance Type:            nonrobust   LLR p-value:                     0.000\n",
       "===========================================================================================\n",
       "                              coef    std err          z      P>|z|      [0.025      0.975]\n",
       "-------------------------------------------------------------------------------------------\n",
       "const                    -270.4831   3188.326     -0.085      0.932   -6519.487    5978.521\n",
       "Year                        0.1242      0.007     17.444      0.000       0.110       0.138\n",
       "Month                       0.6293      0.026     24.603      0.000       0.579       0.679\n",
       "Mosquito number             0.0675      0.001     45.274      0.000       0.065       0.070\n",
       "Trap type_CDC              11.8020   3188.294      0.004      0.997   -6237.139    6260.743\n",
       "Trap type_GRAVID           12.2135   3188.294      0.004      0.997   -6236.727    6261.154\n",
       "Trap type_SENTINEL         11.7446   3188.294      0.004      0.997   -6237.196    6260.685\n",
       "Species_CULEX PIPIENS       1.2830      0.398      3.222      0.001       0.502       2.064\n",
       "Species_CULEX RESTUANS      0.9471      0.398      2.381      0.017       0.168       1.727\n",
       "Species_CULEX TERRITANS    -1.1445      0.480     -2.384      0.017      -2.085      -0.203\n",
       "===========================================================================================\n",
       "\"\"\""
      ]
     },
     "execution_count": 50,
     "metadata": {},
     "output_type": "execute_result"
    }
   ],
   "source": [
    "# Instantiate the model\n",
    "model = sm.Logit(y, X_withconstant)\n",
    "\n",
    "# Fit the model\n",
    "model_results = model.fit()\n",
    "model_results.summary()"
   ]
  },
  {
   "cell_type": "markdown",
   "id": "50a2be0e",
   "metadata": {},
   "source": [
    "Based on the results returned above, we can note that:\n",
    "\n",
    "- p-values for Trap type columns are greater than the threshold of 0.05. Hence, we can conclude that they are not significant in predicting WNV Presence\n",
    "- However Year, Month, Species and Mosquito number have p-values below 0.05. This means that these variables provide some insight into predicting WNV presence."
   ]
  },
  {
   "cell_type": "markdown",
   "id": "399d33d3",
   "metadata": {},
   "source": [
    "Re-running the model excluding CDC, GRAVID & SENTINEL trap type columns:"
   ]
  },
  {
   "cell_type": "code",
   "execution_count": 51,
   "id": "f1105589",
   "metadata": {},
   "outputs": [
    {
     "data": {
      "text/html": [
       "<div>\n",
       "<style scoped>\n",
       "    .dataframe tbody tr th:only-of-type {\n",
       "        vertical-align: middle;\n",
       "    }\n",
       "\n",
       "    .dataframe tbody tr th {\n",
       "        vertical-align: top;\n",
       "    }\n",
       "\n",
       "    .dataframe thead th {\n",
       "        text-align: right;\n",
       "    }\n",
       "</style>\n",
       "<table border=\"1\" class=\"dataframe\">\n",
       "  <thead>\n",
       "    <tr style=\"text-align: right;\">\n",
       "      <th></th>\n",
       "      <th>Year</th>\n",
       "      <th>Month</th>\n",
       "      <th>Mosquito number</th>\n",
       "      <th>Species_CULEX PIPIENS</th>\n",
       "      <th>Species_CULEX RESTUANS</th>\n",
       "      <th>Species_CULEX TERRITANS</th>\n",
       "    </tr>\n",
       "  </thead>\n",
       "  <tbody>\n",
       "    <tr>\n",
       "      <th>0</th>\n",
       "      <td>2019</td>\n",
       "      <td>9</td>\n",
       "      <td>2</td>\n",
       "      <td>0</td>\n",
       "      <td>1</td>\n",
       "      <td>0</td>\n",
       "    </tr>\n",
       "    <tr>\n",
       "      <th>1</th>\n",
       "      <td>2019</td>\n",
       "      <td>9</td>\n",
       "      <td>1</td>\n",
       "      <td>0</td>\n",
       "      <td>1</td>\n",
       "      <td>0</td>\n",
       "    </tr>\n",
       "    <tr>\n",
       "      <th>2</th>\n",
       "      <td>2019</td>\n",
       "      <td>9</td>\n",
       "      <td>2</td>\n",
       "      <td>0</td>\n",
       "      <td>1</td>\n",
       "      <td>0</td>\n",
       "    </tr>\n",
       "    <tr>\n",
       "      <th>3</th>\n",
       "      <td>2019</td>\n",
       "      <td>9</td>\n",
       "      <td>1</td>\n",
       "      <td>0</td>\n",
       "      <td>1</td>\n",
       "      <td>0</td>\n",
       "    </tr>\n",
       "    <tr>\n",
       "      <th>4</th>\n",
       "      <td>2019</td>\n",
       "      <td>9</td>\n",
       "      <td>9</td>\n",
       "      <td>0</td>\n",
       "      <td>1</td>\n",
       "      <td>0</td>\n",
       "    </tr>\n",
       "  </tbody>\n",
       "</table>\n",
       "</div>"
      ],
      "text/plain": [
       "   Year  Month  Mosquito number  Species_CULEX PIPIENS  \\\n",
       "0  2019      9                2                      0   \n",
       "1  2019      9                1                      0   \n",
       "2  2019      9                2                      0   \n",
       "3  2019      9                1                      0   \n",
       "4  2019      9                9                      0   \n",
       "\n",
       "   Species_CULEX RESTUANS  Species_CULEX TERRITANS  \n",
       "0                       1                        0  \n",
       "1                       1                        0  \n",
       "2                       1                        0  \n",
       "3                       1                        0  \n",
       "4                       1                        0  "
      ]
     },
     "execution_count": 51,
     "metadata": {},
     "output_type": "execute_result"
    }
   ],
   "source": [
    "# Making WNV Present a binary column\n",
    "new_df['WNV Present'] = np.where(df['WNV Present'] == \"positive\",1,0)\n",
    "\n",
    "X = new_df[new_df.select_dtypes('number').columns[:]]\n",
    "irrelevant_cols = ['Week', 'Lat', 'Lon', 'WNV Present', 'Trap type_GRAVID', 'Trap type_SENTINEL', \\\n",
    "                   'Trap type_CDC','Trap type_OVI', 'Species_CULEX SALINARIUS']\n",
    "\n",
    "X = X.drop(irrelevant_cols, axis=1)\n",
    "y = new_df['WNV Present']\n",
    "\n",
    "X.head()"
   ]
  },
  {
   "cell_type": "code",
   "execution_count": 52,
   "id": "51072596",
   "metadata": {},
   "outputs": [
    {
     "name": "stdout",
     "output_type": "stream",
     "text": [
      "Optimization terminated successfully.\n",
      "         Current function value: 0.383231\n",
      "         Iterations 8\n"
     ]
    },
    {
     "name": "stderr",
     "output_type": "stream",
     "text": [
      "/Users/fejiroobor/anaconda3/lib/python3.9/site-packages/statsmodels/tsa/tsatools.py:142: FutureWarning: In a future version of pandas all arguments of concat except for the argument 'objs' will be keyword-only\n",
      "  x = pd.concat(x[::order], 1)\n"
     ]
    },
    {
     "data": {
      "text/html": [
       "<table class=\"simpletable\">\n",
       "<caption>Logit Regression Results</caption>\n",
       "<tr>\n",
       "  <th>Dep. Variable:</th>      <td>WNV Present</td>   <th>  No. Observations:  </th>  <td> 17913</td> \n",
       "</tr>\n",
       "<tr>\n",
       "  <th>Model:</th>                 <td>Logit</td>      <th>  Df Residuals:      </th>  <td> 17906</td> \n",
       "</tr>\n",
       "<tr>\n",
       "  <th>Method:</th>                 <td>MLE</td>       <th>  Df Model:          </th>  <td>     6</td> \n",
       "</tr>\n",
       "<tr>\n",
       "  <th>Date:</th>            <td>Sun, 16 Apr 2023</td> <th>  Pseudo R-squ.:     </th>  <td>0.2129</td> \n",
       "</tr>\n",
       "<tr>\n",
       "  <th>Time:</th>                <td>23:51:43</td>     <th>  Log-Likelihood:    </th> <td> -6864.8</td>\n",
       "</tr>\n",
       "<tr>\n",
       "  <th>converged:</th>             <td>True</td>       <th>  LL-Null:           </th> <td> -8722.1</td>\n",
       "</tr>\n",
       "<tr>\n",
       "  <th>Covariance Type:</th>     <td>nonrobust</td>    <th>  LLR p-value:       </th>  <td> 0.000</td> \n",
       "</tr>\n",
       "</table>\n",
       "<table class=\"simpletable\">\n",
       "<tr>\n",
       "             <td></td>                <th>coef</th>     <th>std err</th>      <th>z</th>      <th>P>|z|</th>  <th>[0.025</th>    <th>0.975]</th>  \n",
       "</tr>\n",
       "<tr>\n",
       "  <th>const</th>                   <td> -264.8570</td> <td>   13.750</td> <td>  -19.263</td> <td> 0.000</td> <td> -291.806</td> <td> -237.908</td>\n",
       "</tr>\n",
       "<tr>\n",
       "  <th>Year</th>                    <td>    0.1275</td> <td>    0.007</td> <td>   18.674</td> <td> 0.000</td> <td>    0.114</td> <td>    0.141</td>\n",
       "</tr>\n",
       "<tr>\n",
       "  <th>Month</th>                   <td>    0.6196</td> <td>    0.025</td> <td>   24.385</td> <td> 0.000</td> <td>    0.570</td> <td>    0.669</td>\n",
       "</tr>\n",
       "<tr>\n",
       "  <th>Mosquito number</th>         <td>    0.0662</td> <td>    0.001</td> <td>   45.697</td> <td> 0.000</td> <td>    0.063</td> <td>    0.069</td>\n",
       "</tr>\n",
       "<tr>\n",
       "  <th>Species_CULEX PIPIENS</th>   <td>    1.3110</td> <td>    0.401</td> <td>    3.268</td> <td> 0.001</td> <td>    0.525</td> <td>    2.097</td>\n",
       "</tr>\n",
       "<tr>\n",
       "  <th>Species_CULEX RESTUANS</th>  <td>    0.9809</td> <td>    0.401</td> <td>    2.448</td> <td> 0.014</td> <td>    0.196</td> <td>    1.766</td>\n",
       "</tr>\n",
       "<tr>\n",
       "  <th>Species_CULEX TERRITANS</th> <td>   -1.1106</td> <td>    0.482</td> <td>   -2.302</td> <td> 0.021</td> <td>   -2.056</td> <td>   -0.165</td>\n",
       "</tr>\n",
       "</table>"
      ],
      "text/plain": [
       "<class 'statsmodels.iolib.summary.Summary'>\n",
       "\"\"\"\n",
       "                           Logit Regression Results                           \n",
       "==============================================================================\n",
       "Dep. Variable:            WNV Present   No. Observations:                17913\n",
       "Model:                          Logit   Df Residuals:                    17906\n",
       "Method:                           MLE   Df Model:                            6\n",
       "Date:                Sun, 16 Apr 2023   Pseudo R-squ.:                  0.2129\n",
       "Time:                        23:51:43   Log-Likelihood:                -6864.8\n",
       "converged:                       True   LL-Null:                       -8722.1\n",
       "Covariance Type:            nonrobust   LLR p-value:                     0.000\n",
       "===========================================================================================\n",
       "                              coef    std err          z      P>|z|      [0.025      0.975]\n",
       "-------------------------------------------------------------------------------------------\n",
       "const                    -264.8570     13.750    -19.263      0.000    -291.806    -237.908\n",
       "Year                        0.1275      0.007     18.674      0.000       0.114       0.141\n",
       "Month                       0.6196      0.025     24.385      0.000       0.570       0.669\n",
       "Mosquito number             0.0662      0.001     45.697      0.000       0.063       0.069\n",
       "Species_CULEX PIPIENS       1.3110      0.401      3.268      0.001       0.525       2.097\n",
       "Species_CULEX RESTUANS      0.9809      0.401      2.448      0.014       0.196       1.766\n",
       "Species_CULEX TERRITANS    -1.1106      0.482     -2.302      0.021      -2.056      -0.165\n",
       "===========================================================================================\n",
       "\"\"\""
      ]
     },
     "execution_count": 52,
     "metadata": {},
     "output_type": "execute_result"
    }
   ],
   "source": [
    "X_withconstant = sm.add_constant(X) # Add constant\n",
    "X_withconstant.head()\n",
    "\n",
    "# Instantiate the model\n",
    "model = sm.Logit(y, X_withconstant)\n",
    "\n",
    "# Fit the model\n",
    "model_results = model.fit()\n",
    "model_results.summary()"
   ]
  },
  {
   "cell_type": "code",
   "execution_count": 53,
   "id": "24f5ff3e",
   "metadata": {},
   "outputs": [
    {
     "data": {
      "text/plain": [
       "const                     -264.857\n",
       "Year                         0.127\n",
       "Month                        0.620\n",
       "Mosquito number              0.066\n",
       "Species_CULEX PIPIENS        1.311\n",
       "Species_CULEX RESTUANS       0.981\n",
       "Species_CULEX TERRITANS     -1.111\n",
       "dtype: float64"
      ]
     },
     "execution_count": 53,
     "metadata": {},
     "output_type": "execute_result"
    }
   ],
   "source": [
    "params = round (model_results.params, 3)\n",
    "params"
   ]
  },
  {
   "cell_type": "markdown",
   "id": "a50fffa0",
   "metadata": {},
   "source": [
    "Our model now becomes\n",
    "\n",
    "$$ s(X) = P(y|X) = \\frac{1}{1+e^{-(-264.86 + 0.0127 x_1 + 0.620 x_2 + 0.066 x_3 + 1.311 x_4 + 0.981 x_5 - 1.111 x_6)}}$$\n"
   ]
  },
  {
   "cell_type": "code",
   "execution_count": 54,
   "id": "866d6ad7",
   "metadata": {},
   "outputs": [
    {
     "name": "stdout",
     "output_type": "stream",
     "text": [
      "const                      0.000\n",
      "Year                       1.135\n",
      "Month                      1.859\n",
      "Mosquito number            1.068\n",
      "Species_CULEX PIPIENS      3.710\n",
      "Species_CULEX RESTUANS     2.667\n",
      "Species_CULEX TERRITANS    0.329\n",
      "dtype: float64\n"
     ]
    }
   ],
   "source": [
    "# Finding the odds ratio for each of our independent variables\n",
    "\n",
    "for i in params:\n",
    "    beta_i = np.exp(params)\n",
    "    print(round(beta_i, 3))\n",
    "    break"
   ]
  },
  {
   "cell_type": "markdown",
   "id": "c9b53c00",
   "metadata": {},
   "source": [
    "Based on the odds ratios above, we can say that:\n",
    "\n",
    "\n",
    "- One unit increase in year, increases the odds of our test being WNV positive by a factor of 1.135\n",
    "- Similarly, increase of one month increases the odss of WNV positive test by a factor of 1.86\n",
    "- One unit increase in number of mosquito observed increases the odds of postive WNV test by a factor of 1.07\n",
    "- One unit increase in the presence of CULEX PIPENS species, increases the odds of our test being WNV positive by a factor of 3.71\n",
    "- One unit increase in the presence of CULEX RESTUANS species, increases the odds of our test being WNV positive by a factor of 2.67\n",
    "- Increase in the presence of CULEX TERRITANS species decreases the odds of our test being WNV positive as the odds ratio is less than 1"
   ]
  },
  {
   "cell_type": "markdown",
   "id": "36f5a765",
   "metadata": {},
   "source": [
    "It is reasonable to expect that our chances of testing positive for WNV increases as we increase the number of mosquitoes being tested. Since it starts to rain more and the temperatures get warmer in the summer, we can also expect an increase in the likelihood of testing positive for WNV. Lastly, since PIPIENS & RESTUANS were the most observed species in our dataset which also had the highest number of WNV positive cases, we can expect a higher probability of positive WNV cases when these species are abundant in an area. "
   ]
  }
 ],
 "metadata": {
  "kernelspec": {
   "display_name": "Python 3 (ipykernel)",
   "language": "python",
   "name": "python3"
  },
  "language_info": {
   "codemirror_mode": {
    "name": "ipython",
    "version": 3
   },
   "file_extension": ".py",
   "mimetype": "text/x-python",
   "name": "python",
   "nbconvert_exporter": "python",
   "pygments_lexer": "ipython3",
   "version": "3.11.5"
  },
  "toc": {
   "base_numbering": 1,
   "nav_menu": {},
   "number_sections": true,
   "sideBar": true,
   "skip_h1_title": false,
   "title_cell": "Table of Contents",
   "title_sidebar": "Contents",
   "toc_cell": false,
   "toc_position": {},
   "toc_section_display": true,
   "toc_window_display": false
  }
 },
 "nbformat": 4,
 "nbformat_minor": 5
}
